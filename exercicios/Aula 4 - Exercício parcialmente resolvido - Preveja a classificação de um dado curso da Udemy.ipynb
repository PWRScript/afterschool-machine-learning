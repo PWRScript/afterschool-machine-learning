{
  "nbformat": 4,
  "nbformat_minor": 0,
  "metadata": {
    "colab": {
      "provenance": [],
      "include_colab_link": true
    },
    "kernelspec": {
      "name": "python3",
      "display_name": "Python 3"
    }
  },
  "cells": [
    {
      "cell_type": "markdown",
      "metadata": {
        "id": "view-in-github",
        "colab_type": "text"
      },
      "source": [
        "<a href=\"https://colab.research.google.com/github/PWRScript/afterschool-machine-learning/blob/main/exercicios/Aula%204%20-%20Exerc%C3%ADcio%20parcialmente%20resolvido%20-%20Preveja%20a%20classifica%C3%A7%C3%A3o%20de%20um%20dado%20curso%20da%20Udemy.ipynb\" target=\"_parent\"><img src=\"https://colab.research.google.com/assets/colab-badge.svg\" alt=\"Open In Colab\"/></a>"
      ]
    },
    {
      "cell_type": "markdown",
      "metadata": {
        "id": "WoJ0YNnq11cA"
      },
      "source": [
        "# Exercício parcialmente resolvido\n",
        "\n",
        "## Enunciado\n",
        "\n",
        "Neste exercício, pretendemos prever a classificação de um dado curso da [Udemy](https://www.udemy.com/). Para tal, vamos ter em consideração diversas informações sobre  o curso, tais como o número de aulas, o número de testes e o preço.\n",
        "\n",
        "## Dados\n",
        "\n",
        "* Número de observações = 13608\n",
        "* Número de variáveis independentes = 10\n",
        " 1. id = número de identificação\n",
        " 1. title = título\n",
        " 1. is_paid = curso pago (True) ou gratuito (False)\n",
        " 1. num_subscribers = número de utilizadores inscritos\n",
        " 1. num_reviews = número de avaliações feitas pelos utilizadores\n",
        " 1. num_published_lectures = número de aulas\n",
        " 1. num_published_practice_tests = número de testes\n",
        " 1. discount_price_amount = valor do desconto\n",
        " 1. price_detail__amount = preço\n",
        " 1. price_detail__currency = moeda\n",
        "* Número de variáveis dependentes = 1\n",
        " 1. avg_rating = classificação do curso (escala de 0 a 5)\n",
        "\n",
        "Dados disponíveis em: https://raw.githubusercontent.com/pmarcelino/datasets/master/udemy_01.csv\n",
        "\n",
        "## Instruções\n",
        "\n",
        "Resolve o exercício tendo em consideração as pistas deixadas, como comentário, ao longo do código. Para tal, basta substituir os comentários com `[ ]` pelas instruções corretas. Algumas partes do exercício já estão resolvidas e, como tal, não requerem qualquer alteração."
      ]
    },
    {
      "cell_type": "markdown",
      "metadata": {
        "id": "ckuae_BZpbOz"
      },
      "source": [
        "# Resolução"
      ]
    },
    {
      "cell_type": "code",
      "metadata": {
        "id": "4GTyhOSLCWxX"
      },
      "source": [
        "# Importar bibliotecas\n",
        "import pandas as pd\n",
        "import seaborn as sb\n",
        "\n",
        "from sklearn.model_selection import train_test_split\n",
        "from sklearn.ensemble import RandomForestRegressor\n",
        "from sklearn.metrics import r2_score"
      ],
      "execution_count": 27,
      "outputs": []
    },
    {
      "cell_type": "markdown",
      "metadata": {
        "id": "4GnHFFglCaT-"
      },
      "source": [
        "## 1. Preparar dados"
      ]
    },
    {
      "cell_type": "code",
      "metadata": {
        "id": "9PfJqnPrCYWN",
        "outputId": "a27a7da3-026a-48a1-eb17-69b6699e44c7",
        "colab": {
          "base_uri": "https://localhost:8080/",
          "height": 537
        }
      },
      "source": [
        "# Importar dados\n",
        "\n",
        "url = \"https://raw.githubusercontent.com/pmarcelino/datasets/master/udemy_01.csv\"\n",
        "data = pd.read_csv(url)\n",
        "data"
      ],
      "execution_count": 28,
      "outputs": [
        {
          "output_type": "execute_result",
          "data": {
            "text/plain": [
              "            id                                              title  is_paid  \\\n",
              "0       762616  The Complete SQL Bootcamp 2020: Go from Zero t...     True   \n",
              "1       937678  Tableau 2020 A-Z: Hands-On Tableau Training fo...     True   \n",
              "2      1361790             PMP Exam Prep Seminar -  PMBOK Guide 6     True   \n",
              "3       648826         The Complete Financial Analyst Course 2020     True   \n",
              "4       637930  An Entire MBA in 1 Course:Award Winning Busine...     True   \n",
              "...        ...                                                ...      ...   \n",
              "13603  3005408                      מושגים בסיסיים באופציות חלק ב    False   \n",
              "13604  3467284                            Programa de Integridade    False   \n",
              "13605  3368222  Goodwill and Method of Calculating Goodwill (A...    False   \n",
              "13606  3211345                                Poderoso Investidor    False   \n",
              "13607  2935720         Acabou a Previdência e agora? -  Volume 03     True   \n",
              "\n",
              "       num_subscribers  avg_rating  num_reviews  num_published_lectures  \\\n",
              "0               295509     4.66019        78006                      84   \n",
              "1               209070     4.58956        54581                      78   \n",
              "2               155282     4.59491        52653                     292   \n",
              "3               245860     4.54407        46447                     338   \n",
              "4               374836     4.47080        41630                      83   \n",
              "...                ...         ...          ...                     ...   \n",
              "13603               47     0.00000            0                       6   \n",
              "13604               19     0.00000            0                       5   \n",
              "13605               47     0.00000            0                       5   \n",
              "13606               48     0.00000            0                      13   \n",
              "13607                0     0.00000            0                      14   \n",
              "\n",
              "       num_published_practice_tests  discount_price__amount  \\\n",
              "0                                 0                   455.0   \n",
              "1                                 0                   455.0   \n",
              "2                                 2                   455.0   \n",
              "3                                 0                   455.0   \n",
              "4                                 0                   455.0   \n",
              "...                             ...                     ...   \n",
              "13603                             0                     NaN   \n",
              "13604                             0                     NaN   \n",
              "13605                             0                     NaN   \n",
              "13606                             0                     NaN   \n",
              "13607                             0                     NaN   \n",
              "\n",
              "       price_detail__amount price_detail__currency  \n",
              "0                    8640.0                    INR  \n",
              "1                    8640.0                    INR  \n",
              "2                    8640.0                    INR  \n",
              "3                    8640.0                    INR  \n",
              "4                    8640.0                    INR  \n",
              "...                     ...                    ...  \n",
              "13603                   NaN                    NaN  \n",
              "13604                   NaN                    NaN  \n",
              "13605                   NaN                    NaN  \n",
              "13606                   NaN                    NaN  \n",
              "13607                   NaN                    NaN  \n",
              "\n",
              "[13608 rows x 11 columns]"
            ],
            "text/html": [
              "\n",
              "  <div id=\"df-d84c9bc8-d32c-4c3d-a626-aba99e4c9b52\">\n",
              "    <div class=\"colab-df-container\">\n",
              "      <div>\n",
              "<style scoped>\n",
              "    .dataframe tbody tr th:only-of-type {\n",
              "        vertical-align: middle;\n",
              "    }\n",
              "\n",
              "    .dataframe tbody tr th {\n",
              "        vertical-align: top;\n",
              "    }\n",
              "\n",
              "    .dataframe thead th {\n",
              "        text-align: right;\n",
              "    }\n",
              "</style>\n",
              "<table border=\"1\" class=\"dataframe\">\n",
              "  <thead>\n",
              "    <tr style=\"text-align: right;\">\n",
              "      <th></th>\n",
              "      <th>id</th>\n",
              "      <th>title</th>\n",
              "      <th>is_paid</th>\n",
              "      <th>num_subscribers</th>\n",
              "      <th>avg_rating</th>\n",
              "      <th>num_reviews</th>\n",
              "      <th>num_published_lectures</th>\n",
              "      <th>num_published_practice_tests</th>\n",
              "      <th>discount_price__amount</th>\n",
              "      <th>price_detail__amount</th>\n",
              "      <th>price_detail__currency</th>\n",
              "    </tr>\n",
              "  </thead>\n",
              "  <tbody>\n",
              "    <tr>\n",
              "      <th>0</th>\n",
              "      <td>762616</td>\n",
              "      <td>The Complete SQL Bootcamp 2020: Go from Zero t...</td>\n",
              "      <td>True</td>\n",
              "      <td>295509</td>\n",
              "      <td>4.66019</td>\n",
              "      <td>78006</td>\n",
              "      <td>84</td>\n",
              "      <td>0</td>\n",
              "      <td>455.0</td>\n",
              "      <td>8640.0</td>\n",
              "      <td>INR</td>\n",
              "    </tr>\n",
              "    <tr>\n",
              "      <th>1</th>\n",
              "      <td>937678</td>\n",
              "      <td>Tableau 2020 A-Z: Hands-On Tableau Training fo...</td>\n",
              "      <td>True</td>\n",
              "      <td>209070</td>\n",
              "      <td>4.58956</td>\n",
              "      <td>54581</td>\n",
              "      <td>78</td>\n",
              "      <td>0</td>\n",
              "      <td>455.0</td>\n",
              "      <td>8640.0</td>\n",
              "      <td>INR</td>\n",
              "    </tr>\n",
              "    <tr>\n",
              "      <th>2</th>\n",
              "      <td>1361790</td>\n",
              "      <td>PMP Exam Prep Seminar -  PMBOK Guide 6</td>\n",
              "      <td>True</td>\n",
              "      <td>155282</td>\n",
              "      <td>4.59491</td>\n",
              "      <td>52653</td>\n",
              "      <td>292</td>\n",
              "      <td>2</td>\n",
              "      <td>455.0</td>\n",
              "      <td>8640.0</td>\n",
              "      <td>INR</td>\n",
              "    </tr>\n",
              "    <tr>\n",
              "      <th>3</th>\n",
              "      <td>648826</td>\n",
              "      <td>The Complete Financial Analyst Course 2020</td>\n",
              "      <td>True</td>\n",
              "      <td>245860</td>\n",
              "      <td>4.54407</td>\n",
              "      <td>46447</td>\n",
              "      <td>338</td>\n",
              "      <td>0</td>\n",
              "      <td>455.0</td>\n",
              "      <td>8640.0</td>\n",
              "      <td>INR</td>\n",
              "    </tr>\n",
              "    <tr>\n",
              "      <th>4</th>\n",
              "      <td>637930</td>\n",
              "      <td>An Entire MBA in 1 Course:Award Winning Busine...</td>\n",
              "      <td>True</td>\n",
              "      <td>374836</td>\n",
              "      <td>4.47080</td>\n",
              "      <td>41630</td>\n",
              "      <td>83</td>\n",
              "      <td>0</td>\n",
              "      <td>455.0</td>\n",
              "      <td>8640.0</td>\n",
              "      <td>INR</td>\n",
              "    </tr>\n",
              "    <tr>\n",
              "      <th>...</th>\n",
              "      <td>...</td>\n",
              "      <td>...</td>\n",
              "      <td>...</td>\n",
              "      <td>...</td>\n",
              "      <td>...</td>\n",
              "      <td>...</td>\n",
              "      <td>...</td>\n",
              "      <td>...</td>\n",
              "      <td>...</td>\n",
              "      <td>...</td>\n",
              "      <td>...</td>\n",
              "    </tr>\n",
              "    <tr>\n",
              "      <th>13603</th>\n",
              "      <td>3005408</td>\n",
              "      <td>מושגים בסיסיים באופציות חלק ב</td>\n",
              "      <td>False</td>\n",
              "      <td>47</td>\n",
              "      <td>0.00000</td>\n",
              "      <td>0</td>\n",
              "      <td>6</td>\n",
              "      <td>0</td>\n",
              "      <td>NaN</td>\n",
              "      <td>NaN</td>\n",
              "      <td>NaN</td>\n",
              "    </tr>\n",
              "    <tr>\n",
              "      <th>13604</th>\n",
              "      <td>3467284</td>\n",
              "      <td>Programa de Integridade</td>\n",
              "      <td>False</td>\n",
              "      <td>19</td>\n",
              "      <td>0.00000</td>\n",
              "      <td>0</td>\n",
              "      <td>5</td>\n",
              "      <td>0</td>\n",
              "      <td>NaN</td>\n",
              "      <td>NaN</td>\n",
              "      <td>NaN</td>\n",
              "    </tr>\n",
              "    <tr>\n",
              "      <th>13605</th>\n",
              "      <td>3368222</td>\n",
              "      <td>Goodwill and Method of Calculating Goodwill (A...</td>\n",
              "      <td>False</td>\n",
              "      <td>47</td>\n",
              "      <td>0.00000</td>\n",
              "      <td>0</td>\n",
              "      <td>5</td>\n",
              "      <td>0</td>\n",
              "      <td>NaN</td>\n",
              "      <td>NaN</td>\n",
              "      <td>NaN</td>\n",
              "    </tr>\n",
              "    <tr>\n",
              "      <th>13606</th>\n",
              "      <td>3211345</td>\n",
              "      <td>Poderoso Investidor</td>\n",
              "      <td>False</td>\n",
              "      <td>48</td>\n",
              "      <td>0.00000</td>\n",
              "      <td>0</td>\n",
              "      <td>13</td>\n",
              "      <td>0</td>\n",
              "      <td>NaN</td>\n",
              "      <td>NaN</td>\n",
              "      <td>NaN</td>\n",
              "    </tr>\n",
              "    <tr>\n",
              "      <th>13607</th>\n",
              "      <td>2935720</td>\n",
              "      <td>Acabou a Previdência e agora? -  Volume 03</td>\n",
              "      <td>True</td>\n",
              "      <td>0</td>\n",
              "      <td>0.00000</td>\n",
              "      <td>0</td>\n",
              "      <td>14</td>\n",
              "      <td>0</td>\n",
              "      <td>NaN</td>\n",
              "      <td>NaN</td>\n",
              "      <td>NaN</td>\n",
              "    </tr>\n",
              "  </tbody>\n",
              "</table>\n",
              "<p>13608 rows × 11 columns</p>\n",
              "</div>\n",
              "      <button class=\"colab-df-convert\" onclick=\"convertToInteractive('df-d84c9bc8-d32c-4c3d-a626-aba99e4c9b52')\"\n",
              "              title=\"Convert this dataframe to an interactive table.\"\n",
              "              style=\"display:none;\">\n",
              "        \n",
              "  <svg xmlns=\"http://www.w3.org/2000/svg\" height=\"24px\"viewBox=\"0 0 24 24\"\n",
              "       width=\"24px\">\n",
              "    <path d=\"M0 0h24v24H0V0z\" fill=\"none\"/>\n",
              "    <path d=\"M18.56 5.44l.94 2.06.94-2.06 2.06-.94-2.06-.94-.94-2.06-.94 2.06-2.06.94zm-11 1L8.5 8.5l.94-2.06 2.06-.94-2.06-.94L8.5 2.5l-.94 2.06-2.06.94zm10 10l.94 2.06.94-2.06 2.06-.94-2.06-.94-.94-2.06-.94 2.06-2.06.94z\"/><path d=\"M17.41 7.96l-1.37-1.37c-.4-.4-.92-.59-1.43-.59-.52 0-1.04.2-1.43.59L10.3 9.45l-7.72 7.72c-.78.78-.78 2.05 0 2.83L4 21.41c.39.39.9.59 1.41.59.51 0 1.02-.2 1.41-.59l7.78-7.78 2.81-2.81c.8-.78.8-2.07 0-2.86zM5.41 20L4 18.59l7.72-7.72 1.47 1.35L5.41 20z\"/>\n",
              "  </svg>\n",
              "      </button>\n",
              "      \n",
              "  <style>\n",
              "    .colab-df-container {\n",
              "      display:flex;\n",
              "      flex-wrap:wrap;\n",
              "      gap: 12px;\n",
              "    }\n",
              "\n",
              "    .colab-df-convert {\n",
              "      background-color: #E8F0FE;\n",
              "      border: none;\n",
              "      border-radius: 50%;\n",
              "      cursor: pointer;\n",
              "      display: none;\n",
              "      fill: #1967D2;\n",
              "      height: 32px;\n",
              "      padding: 0 0 0 0;\n",
              "      width: 32px;\n",
              "    }\n",
              "\n",
              "    .colab-df-convert:hover {\n",
              "      background-color: #E2EBFA;\n",
              "      box-shadow: 0px 1px 2px rgba(60, 64, 67, 0.3), 0px 1px 3px 1px rgba(60, 64, 67, 0.15);\n",
              "      fill: #174EA6;\n",
              "    }\n",
              "\n",
              "    [theme=dark] .colab-df-convert {\n",
              "      background-color: #3B4455;\n",
              "      fill: #D2E3FC;\n",
              "    }\n",
              "\n",
              "    [theme=dark] .colab-df-convert:hover {\n",
              "      background-color: #434B5C;\n",
              "      box-shadow: 0px 1px 3px 1px rgba(0, 0, 0, 0.15);\n",
              "      filter: drop-shadow(0px 1px 2px rgba(0, 0, 0, 0.3));\n",
              "      fill: #FFFFFF;\n",
              "    }\n",
              "  </style>\n",
              "\n",
              "      <script>\n",
              "        const buttonEl =\n",
              "          document.querySelector('#df-d84c9bc8-d32c-4c3d-a626-aba99e4c9b52 button.colab-df-convert');\n",
              "        buttonEl.style.display =\n",
              "          google.colab.kernel.accessAllowed ? 'block' : 'none';\n",
              "\n",
              "        async function convertToInteractive(key) {\n",
              "          const element = document.querySelector('#df-d84c9bc8-d32c-4c3d-a626-aba99e4c9b52');\n",
              "          const dataTable =\n",
              "            await google.colab.kernel.invokeFunction('convertToInteractive',\n",
              "                                                     [key], {});\n",
              "          if (!dataTable) return;\n",
              "\n",
              "          const docLinkHtml = 'Like what you see? Visit the ' +\n",
              "            '<a target=\"_blank\" href=https://colab.research.google.com/notebooks/data_table.ipynb>data table notebook</a>'\n",
              "            + ' to learn more about interactive tables.';\n",
              "          element.innerHTML = '';\n",
              "          dataTable['output_type'] = 'display_data';\n",
              "          await google.colab.output.renderOutput(dataTable, element);\n",
              "          const docLink = document.createElement('div');\n",
              "          docLink.innerHTML = docLinkHtml;\n",
              "          element.appendChild(docLink);\n",
              "        }\n",
              "      </script>\n",
              "    </div>\n",
              "  </div>\n",
              "  "
            ]
          },
          "metadata": {},
          "execution_count": 28
        }
      ]
    },
    {
      "cell_type": "code",
      "metadata": {
        "id": "uWe9GgU1CftV",
        "outputId": "44566970-fabe-4a94-d07f-362daf774f45",
        "colab": {
          "base_uri": "https://localhost:8080/"
        }
      },
      "source": [
        "# Verificar se há dados em falta\n",
        "\n",
        "data.isnull().sum()"
      ],
      "execution_count": 29,
      "outputs": [
        {
          "output_type": "execute_result",
          "data": {
            "text/plain": [
              "id                                 0\n",
              "title                              0\n",
              "is_paid                            0\n",
              "num_subscribers                    0\n",
              "avg_rating                         0\n",
              "num_reviews                        0\n",
              "num_published_lectures             0\n",
              "num_published_practice_tests       0\n",
              "discount_price__amount          1403\n",
              "price_detail__amount             497\n",
              "price_detail__currency           497\n",
              "dtype: int64"
            ]
          },
          "metadata": {},
          "execution_count": 29
        }
      ]
    },
    {
      "cell_type": "code",
      "metadata": {
        "id": "M4BffZi0ChjJ"
      },
      "source": [
        "# Eliminar observações com dados em falta (caso necessário)\n",
        "\n",
        "data = data.dropna()"
      ],
      "execution_count": 30,
      "outputs": []
    },
    {
      "cell_type": "code",
      "metadata": {
        "id": "OGz5qedfCjx9",
        "outputId": "2cdaa467-a3e3-4655-cdf8-cf46f03035a7",
        "colab": {
          "base_uri": "https://localhost:8080/"
        }
      },
      "source": [
        "# Verificar se há dados em falta (caso necessário)\n",
        "\n",
        "data.isnull().sum()"
      ],
      "execution_count": 31,
      "outputs": [
        {
          "output_type": "execute_result",
          "data": {
            "text/plain": [
              "id                              0\n",
              "title                           0\n",
              "is_paid                         0\n",
              "num_subscribers                 0\n",
              "avg_rating                      0\n",
              "num_reviews                     0\n",
              "num_published_lectures          0\n",
              "num_published_practice_tests    0\n",
              "discount_price__amount          0\n",
              "price_detail__amount            0\n",
              "price_detail__currency          0\n",
              "dtype: int64"
            ]
          },
          "metadata": {},
          "execution_count": 31
        }
      ]
    },
    {
      "cell_type": "markdown",
      "metadata": {
        "id": "xH-i8N0LCmcU"
      },
      "source": [
        "## 2. Explorar dados"
      ]
    },
    {
      "cell_type": "code",
      "metadata": {
        "id": "43NPqexDCo1Z",
        "outputId": "2c57b187-95b9-4de0-c926-e6a8615ef25a",
        "colab": {
          "base_uri": "https://localhost:8080/",
          "height": 300
        }
      },
      "source": [
        "# Verificar se há erros e anomalias\n",
        "\n",
        "data.describe()"
      ],
      "execution_count": 32,
      "outputs": [
        {
          "output_type": "execute_result",
          "data": {
            "text/plain": [
              "                 id  num_subscribers    avg_rating   num_reviews  \\\n",
              "count  1.220500e+04     12205.000000  12205.000000  12205.000000   \n",
              "mean   1.663674e+06      2858.483818      3.932067    247.382220   \n",
              "std    9.430212e+05      9458.534381      0.999380   1639.713806   \n",
              "min    2.762000e+03         0.000000      0.000000      0.000000   \n",
              "25%    8.490300e+05        65.000000      3.800000      8.000000   \n",
              "50%    1.597114e+06       558.000000      4.187500     24.000000   \n",
              "75%    2.470024e+06      2273.000000      4.450000     86.000000   \n",
              "max    3.482886e+06    374836.000000      5.000000  78006.000000   \n",
              "\n",
              "       num_published_lectures  num_published_practice_tests  \\\n",
              "count            12205.000000                  12205.000000   \n",
              "mean                32.870463                      0.115035   \n",
              "std                 43.296882                      0.635486   \n",
              "min                  0.000000                      0.000000   \n",
              "25%                 12.000000                      0.000000   \n",
              "50%                 22.000000                      0.000000   \n",
              "75%                 38.000000                      0.000000   \n",
              "max                699.000000                      6.000000   \n",
              "\n",
              "       discount_price__amount  price_detail__amount  \n",
              "count            12205.000000          12205.000000  \n",
              "mean               493.943794           4616.468660  \n",
              "std                267.827260           3027.637583  \n",
              "min                455.000000           1280.000000  \n",
              "25%                455.000000           1600.000000  \n",
              "50%                455.000000           3200.000000  \n",
              "75%                455.000000           8640.000000  \n",
              "max               3200.000000          11520.000000  "
            ],
            "text/html": [
              "\n",
              "  <div id=\"df-73d7d05a-6b5f-422b-8f96-88148f24dd32\">\n",
              "    <div class=\"colab-df-container\">\n",
              "      <div>\n",
              "<style scoped>\n",
              "    .dataframe tbody tr th:only-of-type {\n",
              "        vertical-align: middle;\n",
              "    }\n",
              "\n",
              "    .dataframe tbody tr th {\n",
              "        vertical-align: top;\n",
              "    }\n",
              "\n",
              "    .dataframe thead th {\n",
              "        text-align: right;\n",
              "    }\n",
              "</style>\n",
              "<table border=\"1\" class=\"dataframe\">\n",
              "  <thead>\n",
              "    <tr style=\"text-align: right;\">\n",
              "      <th></th>\n",
              "      <th>id</th>\n",
              "      <th>num_subscribers</th>\n",
              "      <th>avg_rating</th>\n",
              "      <th>num_reviews</th>\n",
              "      <th>num_published_lectures</th>\n",
              "      <th>num_published_practice_tests</th>\n",
              "      <th>discount_price__amount</th>\n",
              "      <th>price_detail__amount</th>\n",
              "    </tr>\n",
              "  </thead>\n",
              "  <tbody>\n",
              "    <tr>\n",
              "      <th>count</th>\n",
              "      <td>1.220500e+04</td>\n",
              "      <td>12205.000000</td>\n",
              "      <td>12205.000000</td>\n",
              "      <td>12205.000000</td>\n",
              "      <td>12205.000000</td>\n",
              "      <td>12205.000000</td>\n",
              "      <td>12205.000000</td>\n",
              "      <td>12205.000000</td>\n",
              "    </tr>\n",
              "    <tr>\n",
              "      <th>mean</th>\n",
              "      <td>1.663674e+06</td>\n",
              "      <td>2858.483818</td>\n",
              "      <td>3.932067</td>\n",
              "      <td>247.382220</td>\n",
              "      <td>32.870463</td>\n",
              "      <td>0.115035</td>\n",
              "      <td>493.943794</td>\n",
              "      <td>4616.468660</td>\n",
              "    </tr>\n",
              "    <tr>\n",
              "      <th>std</th>\n",
              "      <td>9.430212e+05</td>\n",
              "      <td>9458.534381</td>\n",
              "      <td>0.999380</td>\n",
              "      <td>1639.713806</td>\n",
              "      <td>43.296882</td>\n",
              "      <td>0.635486</td>\n",
              "      <td>267.827260</td>\n",
              "      <td>3027.637583</td>\n",
              "    </tr>\n",
              "    <tr>\n",
              "      <th>min</th>\n",
              "      <td>2.762000e+03</td>\n",
              "      <td>0.000000</td>\n",
              "      <td>0.000000</td>\n",
              "      <td>0.000000</td>\n",
              "      <td>0.000000</td>\n",
              "      <td>0.000000</td>\n",
              "      <td>455.000000</td>\n",
              "      <td>1280.000000</td>\n",
              "    </tr>\n",
              "    <tr>\n",
              "      <th>25%</th>\n",
              "      <td>8.490300e+05</td>\n",
              "      <td>65.000000</td>\n",
              "      <td>3.800000</td>\n",
              "      <td>8.000000</td>\n",
              "      <td>12.000000</td>\n",
              "      <td>0.000000</td>\n",
              "      <td>455.000000</td>\n",
              "      <td>1600.000000</td>\n",
              "    </tr>\n",
              "    <tr>\n",
              "      <th>50%</th>\n",
              "      <td>1.597114e+06</td>\n",
              "      <td>558.000000</td>\n",
              "      <td>4.187500</td>\n",
              "      <td>24.000000</td>\n",
              "      <td>22.000000</td>\n",
              "      <td>0.000000</td>\n",
              "      <td>455.000000</td>\n",
              "      <td>3200.000000</td>\n",
              "    </tr>\n",
              "    <tr>\n",
              "      <th>75%</th>\n",
              "      <td>2.470024e+06</td>\n",
              "      <td>2273.000000</td>\n",
              "      <td>4.450000</td>\n",
              "      <td>86.000000</td>\n",
              "      <td>38.000000</td>\n",
              "      <td>0.000000</td>\n",
              "      <td>455.000000</td>\n",
              "      <td>8640.000000</td>\n",
              "    </tr>\n",
              "    <tr>\n",
              "      <th>max</th>\n",
              "      <td>3.482886e+06</td>\n",
              "      <td>374836.000000</td>\n",
              "      <td>5.000000</td>\n",
              "      <td>78006.000000</td>\n",
              "      <td>699.000000</td>\n",
              "      <td>6.000000</td>\n",
              "      <td>3200.000000</td>\n",
              "      <td>11520.000000</td>\n",
              "    </tr>\n",
              "  </tbody>\n",
              "</table>\n",
              "</div>\n",
              "      <button class=\"colab-df-convert\" onclick=\"convertToInteractive('df-73d7d05a-6b5f-422b-8f96-88148f24dd32')\"\n",
              "              title=\"Convert this dataframe to an interactive table.\"\n",
              "              style=\"display:none;\">\n",
              "        \n",
              "  <svg xmlns=\"http://www.w3.org/2000/svg\" height=\"24px\"viewBox=\"0 0 24 24\"\n",
              "       width=\"24px\">\n",
              "    <path d=\"M0 0h24v24H0V0z\" fill=\"none\"/>\n",
              "    <path d=\"M18.56 5.44l.94 2.06.94-2.06 2.06-.94-2.06-.94-.94-2.06-.94 2.06-2.06.94zm-11 1L8.5 8.5l.94-2.06 2.06-.94-2.06-.94L8.5 2.5l-.94 2.06-2.06.94zm10 10l.94 2.06.94-2.06 2.06-.94-2.06-.94-.94-2.06-.94 2.06-2.06.94z\"/><path d=\"M17.41 7.96l-1.37-1.37c-.4-.4-.92-.59-1.43-.59-.52 0-1.04.2-1.43.59L10.3 9.45l-7.72 7.72c-.78.78-.78 2.05 0 2.83L4 21.41c.39.39.9.59 1.41.59.51 0 1.02-.2 1.41-.59l7.78-7.78 2.81-2.81c.8-.78.8-2.07 0-2.86zM5.41 20L4 18.59l7.72-7.72 1.47 1.35L5.41 20z\"/>\n",
              "  </svg>\n",
              "      </button>\n",
              "      \n",
              "  <style>\n",
              "    .colab-df-container {\n",
              "      display:flex;\n",
              "      flex-wrap:wrap;\n",
              "      gap: 12px;\n",
              "    }\n",
              "\n",
              "    .colab-df-convert {\n",
              "      background-color: #E8F0FE;\n",
              "      border: none;\n",
              "      border-radius: 50%;\n",
              "      cursor: pointer;\n",
              "      display: none;\n",
              "      fill: #1967D2;\n",
              "      height: 32px;\n",
              "      padding: 0 0 0 0;\n",
              "      width: 32px;\n",
              "    }\n",
              "\n",
              "    .colab-df-convert:hover {\n",
              "      background-color: #E2EBFA;\n",
              "      box-shadow: 0px 1px 2px rgba(60, 64, 67, 0.3), 0px 1px 3px 1px rgba(60, 64, 67, 0.15);\n",
              "      fill: #174EA6;\n",
              "    }\n",
              "\n",
              "    [theme=dark] .colab-df-convert {\n",
              "      background-color: #3B4455;\n",
              "      fill: #D2E3FC;\n",
              "    }\n",
              "\n",
              "    [theme=dark] .colab-df-convert:hover {\n",
              "      background-color: #434B5C;\n",
              "      box-shadow: 0px 1px 3px 1px rgba(0, 0, 0, 0.15);\n",
              "      filter: drop-shadow(0px 1px 2px rgba(0, 0, 0, 0.3));\n",
              "      fill: #FFFFFF;\n",
              "    }\n",
              "  </style>\n",
              "\n",
              "      <script>\n",
              "        const buttonEl =\n",
              "          document.querySelector('#df-73d7d05a-6b5f-422b-8f96-88148f24dd32 button.colab-df-convert');\n",
              "        buttonEl.style.display =\n",
              "          google.colab.kernel.accessAllowed ? 'block' : 'none';\n",
              "\n",
              "        async function convertToInteractive(key) {\n",
              "          const element = document.querySelector('#df-73d7d05a-6b5f-422b-8f96-88148f24dd32');\n",
              "          const dataTable =\n",
              "            await google.colab.kernel.invokeFunction('convertToInteractive',\n",
              "                                                     [key], {});\n",
              "          if (!dataTable) return;\n",
              "\n",
              "          const docLinkHtml = 'Like what you see? Visit the ' +\n",
              "            '<a target=\"_blank\" href=https://colab.research.google.com/notebooks/data_table.ipynb>data table notebook</a>'\n",
              "            + ' to learn more about interactive tables.';\n",
              "          element.innerHTML = '';\n",
              "          dataTable['output_type'] = 'display_data';\n",
              "          await google.colab.output.renderOutput(dataTable, element);\n",
              "          const docLink = document.createElement('div');\n",
              "          docLink.innerHTML = docLinkHtml;\n",
              "          element.appendChild(docLink);\n",
              "        }\n",
              "      </script>\n",
              "    </div>\n",
              "  </div>\n",
              "  "
            ]
          },
          "metadata": {},
          "execution_count": 32
        }
      ]
    },
    {
      "cell_type": "code",
      "metadata": {
        "id": "5GapOMNrILmo"
      },
      "source": [
        "# Remover observações com erros, anomalias e valores que não interessem para efeitos de análise (se necessário)\n",
        "\n",
        "# [código]"
      ],
      "execution_count": 33,
      "outputs": []
    },
    {
      "cell_type": "code",
      "metadata": {
        "id": "N45mtXHgPL8P"
      },
      "source": [
        "# Verificar se há erros e anomalias (se necessário)\n",
        "\n",
        "# [código]"
      ],
      "execution_count": 34,
      "outputs": []
    },
    {
      "cell_type": "code",
      "metadata": {
        "id": "FHaPYmWUCrYb",
        "outputId": "41557f32-b6be-4b09-fe4b-7c5747a5bc20",
        "colab": {
          "base_uri": "https://localhost:8080/",
          "height": 297
        }
      },
      "source": [
        "# Visualizar relação entre num_subscribers e num_reviews, usando um scatterplot\n",
        "\n",
        "sb.scatterplot(x=\"num_subscribers\", y=\"num_reviews\", data=data)"
      ],
      "execution_count": 35,
      "outputs": [
        {
          "output_type": "execute_result",
          "data": {
            "text/plain": [
              "<matplotlib.axes._subplots.AxesSubplot at 0x7f2deab2d880>"
            ]
          },
          "metadata": {},
          "execution_count": 35
        },
        {
          "output_type": "display_data",
          "data": {
            "text/plain": [
              "<Figure size 432x288 with 1 Axes>"
            ],
            "image/png": "[encoded data removed]"
          },
          "metadata": {
            "needs_background": "light"
          }
        }
      ]
    },
    {
      "cell_type": "markdown",
      "metadata": {
        "id": "ikGgmSZgJ_pr"
      },
      "source": [
        "* A relação presente no gráfico faz sentido?"
      ]
    },
    {
      "cell_type": "markdown",
      "metadata": {
        "id": "UzkSM2DCGIs0"
      },
      "source": [
        "## 3. Treinar modelo"
      ]
    },
    {
      "cell_type": "code",
      "metadata": {
        "id": "mZ1xCGkjNSRc"
      },
      "source": [
        "# Codificar variáveis (se necessário)"
      ],
      "execution_count": 43,
      "outputs": []
    },
    {
      "cell_type": "code",
      "metadata": {
        "id": "JM1ccXNjGFh9"
      },
      "source": [
        "# Definir variáveis independentes e dependente\n",
        "\n",
        "x = data.drop(['avg_rating', 'is_paid', 'id', 'title', 'price_detail__currency'], axis=1)\n",
        "y = data[\"avg_rating\"]"
      ],
      "execution_count": 50,
      "outputs": []
    },
    {
      "cell_type": "code",
      "metadata": {
        "id": "Ji0GYPHhGLAv"
      },
      "source": [
        "# Dividir dados em conjunto de dados de treino e de teste\n",
        "\n",
        "x_train, x_test, y_train, y_test = train_test_split(x,y,random_state=0)"
      ],
      "execution_count": 51,
      "outputs": []
    },
    {
      "cell_type": "code",
      "metadata": {
        "id": "Td0Hzm3FGMad"
      },
      "source": [
        "# Definir algoritmo do modelo\n",
        "\n",
        "model = RandomForestRegressor(random_state=33)"
      ],
      "execution_count": 52,
      "outputs": []
    },
    {
      "cell_type": "code",
      "metadata": {
        "id": "XxZP29EFGNt5",
        "outputId": "ad347330-743d-4210-c158-500b90b847bf",
        "colab": {
          "base_uri": "https://localhost:8080/"
        }
      },
      "source": [
        "# Treinar o modelo\n",
        "\n",
        "model.fit(x_train,y_train)"
      ],
      "execution_count": 53,
      "outputs": [
        {
          "output_type": "execute_result",
          "data": {
            "text/plain": [
              "RandomForestRegressor(random_state=33)"
            ]
          },
          "metadata": {},
          "execution_count": 53
        }
      ]
    },
    {
      "cell_type": "markdown",
      "metadata": {
        "id": "tWK2Y7U1GQZf"
      },
      "source": [
        "# 4. Avaliar modelo"
      ]
    },
    {
      "cell_type": "code",
      "metadata": {
        "id": "mkIF9_n2GPFo"
      },
      "source": [
        "# Fazer previsões\n",
        "y_pred = model.predict(x_test)"
      ],
      "execution_count": 54,
      "outputs": []
    },
    {
      "cell_type": "code",
      "metadata": {
        "id": "DD4zOJ0EGTJw",
        "outputId": "b3d70f1f-e188-4ad8-f11f-12dd780e394f",
        "colab": {
          "base_uri": "https://localhost:8080/"
        }
      },
      "source": [
        "# Avaliar modelo usando o coeficiente de determinação como medida de avaliação\n",
        "r2_score(y_test, y_pred)"
      ],
      "execution_count": 55,
      "outputs": [
        {
          "output_type": "execute_result",
          "data": {
            "text/plain": [
              "0.756523723281796"
            ]
          },
          "metadata": {},
          "execution_count": 55
        }
      ]
    }
  ]
}