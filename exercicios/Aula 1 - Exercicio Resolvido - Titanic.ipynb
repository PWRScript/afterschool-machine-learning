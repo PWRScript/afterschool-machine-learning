{
  "nbformat": 4,
  "nbformat_minor": 0,
  "metadata": {
    "colab": {
      "provenance": [],
      "collapsed_sections": []
    },
    "kernelspec": {
      "name": "python3",
      "display_name": "Python 3"
    }
  },
  "cells": [
    {
      "cell_type": "markdown",
      "metadata": {
        "id": "PODYCZPbRkkI"
      },
      "source": [
        "# Exercício resolvido em branco\n",
        "\n",
        "## Enunciado\n",
        "\n",
        "Neste exercício, pretendemos prever se um dado passageiro do Titanic sobreviveu ou não. Para tal, vamos ter em consideração diversas características destes passageiros, tais como a classe em que viajavam, a sua idade e o seu género sexual.\n",
        "\n",
        "## Dados\n",
        "\n",
        "* Número de observações = 756\n",
        "* Número de variáveis independentes = 4\n",
        " 1. Name = nome do passageiro\n",
        " 1. PClass = classe em que o passageiro viajava\n",
        " 1. Age = idade do passageiro (anos)\n",
        " 1. Sex = género sexual do passageiro (1 se feminino, 0 se masculino)\n",
        "* Número de variáveis dependentes = 1\n",
        " 1. Survived = diz-nos se um passageiro sobreviveu (1) ou não (0)\n",
        "\n",
        "\n",
        "Dados disponíveis em: https://raw.githubusercontent.com/pmarcelino/datasets/master/titanic-00.csv"
      ]
    },
    {
      "cell_type": "markdown",
      "metadata": {
        "id": "lrRIeIq3cdko"
      },
      "source": [
        "# Resolução"
      ]
    },
    {
      "cell_type": "markdown",
      "source": [
        "Importar Bibliotecas"
      ],
      "metadata": {
        "id": "8J9U-oKC7K6r"
      }
    },
    {
      "cell_type": "code",
      "metadata": {
        "id": "ewj_B8r9QGZB"
      },
      "source": [
        "# Preparação de dados\n",
        "import pandas as pd\n",
        "\n",
        "# Exploração de dados\n",
        "import seaborn as sb\n",
        "\n",
        "# Treinar e avaliar modelos\n",
        "from sklearn.model_selection import train_test_split\n",
        "from sklearn.ensemble import RandomForestClassifier\n",
        "from sklearn.metrics import accuracy_score"
      ],
      "execution_count": null,
      "outputs": []
    },
    {
      "cell_type": "markdown",
      "source": [
        "Obter dados"
      ],
      "metadata": {
        "id": "qkn4Duh_6YUd"
      }
    },
    {
      "cell_type": "code",
      "source": [
        "url = \"https://github.com/pmarcelino/datasets/raw/master/titanic-00.csv\"\n",
        "data = pd.read_csv(url)\n",
        "data"
      ],
      "metadata": {
        "colab": {
          "base_uri": "https://localhost:8080/",
          "height": 424
        },
        "id": "bL6p3FCI6U3A",
        "outputId": "1f77ece5-c126-4b1c-fb44-1625d9cf03ed"
      },
      "execution_count": null,
      "outputs": [
        {
          "output_type": "execute_result",
          "data": {
            "text/plain": [
              "                                              Name  PClass    Age  Sex  \\\n",
              "0                     Allen, Miss Elisabeth Walton       1  29.00    1   \n",
              "1                      Allison, Miss Helen Loraine       1   2.00    1   \n",
              "2              Allison, Mr Hudson Joshua Creighton       1  30.00    0   \n",
              "3    Allison, Mrs Hudson JC (Bessie Waldo Daniels)       1  25.00    1   \n",
              "4                    Allison, Master Hudson Trevor       1   0.92    0   \n",
              "..                                             ...     ...    ...  ...   \n",
              "751                             Zakarian, Mr Artun       3  27.00    0   \n",
              "752                         Zakarian, Mr Maprieder       3  26.00    0   \n",
              "753                               Zenni, Mr Philip       3  22.00    0   \n",
              "754                               Lievens, Mr Rene       3  24.00    0   \n",
              "755                                 Zimmerman, Leo       3  29.00    0   \n",
              "\n",
              "     Survived  \n",
              "0           1  \n",
              "1           0  \n",
              "2           0  \n",
              "3           0  \n",
              "4           1  \n",
              "..        ...  \n",
              "751         0  \n",
              "752         0  \n",
              "753         0  \n",
              "754         0  \n",
              "755         0  \n",
              "\n",
              "[756 rows x 5 columns]"
            ],
            "text/html": [
              "\n",
              "  <div id=\"df-e37022c1-2f17-45c4-9bb9-2734da27705c\">\n",
              "    <div class=\"colab-df-container\">\n",
              "      <div>\n",
              "<style scoped>\n",
              "    .dataframe tbody tr th:only-of-type {\n",
              "        vertical-align: middle;\n",
              "    }\n",
              "\n",
              "    .dataframe tbody tr th {\n",
              "        vertical-align: top;\n",
              "    }\n",
              "\n",
              "    .dataframe thead th {\n",
              "        text-align: right;\n",
              "    }\n",
              "</style>\n",
              "<table border=\"1\" class=\"dataframe\">\n",
              "  <thead>\n",
              "    <tr style=\"text-align: right;\">\n",
              "      <th></th>\n",
              "      <th>Name</th>\n",
              "      <th>PClass</th>\n",
              "      <th>Age</th>\n",
              "      <th>Sex</th>\n",
              "      <th>Survived</th>\n",
              "    </tr>\n",
              "  </thead>\n",
              "  <tbody>\n",
              "    <tr>\n",
              "      <th>0</th>\n",
              "      <td>Allen, Miss Elisabeth Walton</td>\n",
              "      <td>1</td>\n",
              "      <td>29.00</td>\n",
              "      <td>1</td>\n",
              "      <td>1</td>\n",
              "    </tr>\n",
              "    <tr>\n",
              "      <th>1</th>\n",
              "      <td>Allison, Miss Helen Loraine</td>\n",
              "      <td>1</td>\n",
              "      <td>2.00</td>\n",
              "      <td>1</td>\n",
              "      <td>0</td>\n",
              "    </tr>\n",
              "    <tr>\n",
              "      <th>2</th>\n",
              "      <td>Allison, Mr Hudson Joshua Creighton</td>\n",
              "      <td>1</td>\n",
              "      <td>30.00</td>\n",
              "      <td>0</td>\n",
              "      <td>0</td>\n",
              "    </tr>\n",
              "    <tr>\n",
              "      <th>3</th>\n",
              "      <td>Allison, Mrs Hudson JC (Bessie Waldo Daniels)</td>\n",
              "      <td>1</td>\n",
              "      <td>25.00</td>\n",
              "      <td>1</td>\n",
              "      <td>0</td>\n",
              "    </tr>\n",
              "    <tr>\n",
              "      <th>4</th>\n",
              "      <td>Allison, Master Hudson Trevor</td>\n",
              "      <td>1</td>\n",
              "      <td>0.92</td>\n",
              "      <td>0</td>\n",
              "      <td>1</td>\n",
              "    </tr>\n",
              "    <tr>\n",
              "      <th>...</th>\n",
              "      <td>...</td>\n",
              "      <td>...</td>\n",
              "      <td>...</td>\n",
              "      <td>...</td>\n",
              "      <td>...</td>\n",
              "    </tr>\n",
              "    <tr>\n",
              "      <th>751</th>\n",
              "      <td>Zakarian, Mr Artun</td>\n",
              "      <td>3</td>\n",
              "      <td>27.00</td>\n",
              "      <td>0</td>\n",
              "      <td>0</td>\n",
              "    </tr>\n",
              "    <tr>\n",
              "      <th>752</th>\n",
              "      <td>Zakarian, Mr Maprieder</td>\n",
              "      <td>3</td>\n",
              "      <td>26.00</td>\n",
              "      <td>0</td>\n",
              "      <td>0</td>\n",
              "    </tr>\n",
              "    <tr>\n",
              "      <th>753</th>\n",
              "      <td>Zenni, Mr Philip</td>\n",
              "      <td>3</td>\n",
              "      <td>22.00</td>\n",
              "      <td>0</td>\n",
              "      <td>0</td>\n",
              "    </tr>\n",
              "    <tr>\n",
              "      <th>754</th>\n",
              "      <td>Lievens, Mr Rene</td>\n",
              "      <td>3</td>\n",
              "      <td>24.00</td>\n",
              "      <td>0</td>\n",
              "      <td>0</td>\n",
              "    </tr>\n",
              "    <tr>\n",
              "      <th>755</th>\n",
              "      <td>Zimmerman, Leo</td>\n",
              "      <td>3</td>\n",
              "      <td>29.00</td>\n",
              "      <td>0</td>\n",
              "      <td>0</td>\n",
              "    </tr>\n",
              "  </tbody>\n",
              "</table>\n",
              "<p>756 rows × 5 columns</p>\n",
              "</div>\n",
              "      <button class=\"colab-df-convert\" onclick=\"convertToInteractive('df-e37022c1-2f17-45c4-9bb9-2734da27705c')\"\n",
              "              title=\"Convert this dataframe to an interactive table.\"\n",
              "              style=\"display:none;\">\n",
              "        \n",
              "  <svg xmlns=\"http://www.w3.org/2000/svg\" height=\"24px\"viewBox=\"0 0 24 24\"\n",
              "       width=\"24px\">\n",
              "    <path d=\"M0 0h24v24H0V0z\" fill=\"none\"/>\n",
              "    <path d=\"M18.56 5.44l.94 2.06.94-2.06 2.06-.94-2.06-.94-.94-2.06-.94 2.06-2.06.94zm-11 1L8.5 8.5l.94-2.06 2.06-.94-2.06-.94L8.5 2.5l-.94 2.06-2.06.94zm10 10l.94 2.06.94-2.06 2.06-.94-2.06-.94-.94-2.06-.94 2.06-2.06.94z\"/><path d=\"M17.41 7.96l-1.37-1.37c-.4-.4-.92-.59-1.43-.59-.52 0-1.04.2-1.43.59L10.3 9.45l-7.72 7.72c-.78.78-.78 2.05 0 2.83L4 21.41c.39.39.9.59 1.41.59.51 0 1.02-.2 1.41-.59l7.78-7.78 2.81-2.81c.8-.78.8-2.07 0-2.86zM5.41 20L4 18.59l7.72-7.72 1.47 1.35L5.41 20z\"/>\n",
              "  </svg>\n",
              "      </button>\n",
              "      \n",
              "  <style>\n",
              "    .colab-df-container {\n",
              "      display:flex;\n",
              "      flex-wrap:wrap;\n",
              "      gap: 12px;\n",
              "    }\n",
              "\n",
              "    .colab-df-convert {\n",
              "      background-color: #E8F0FE;\n",
              "      border: none;\n",
              "      border-radius: 50%;\n",
              "      cursor: pointer;\n",
              "      display: none;\n",
              "      fill: #1967D2;\n",
              "      height: 32px;\n",
              "      padding: 0 0 0 0;\n",
              "      width: 32px;\n",
              "    }\n",
              "\n",
              "    .colab-df-convert:hover {\n",
              "      background-color: #E2EBFA;\n",
              "      box-shadow: 0px 1px 2px rgba(60, 64, 67, 0.3), 0px 1px 3px 1px rgba(60, 64, 67, 0.15);\n",
              "      fill: #174EA6;\n",
              "    }\n",
              "\n",
              "    [theme=dark] .colab-df-convert {\n",
              "      background-color: #3B4455;\n",
              "      fill: #D2E3FC;\n",
              "    }\n",
              "\n",
              "    [theme=dark] .colab-df-convert:hover {\n",
              "      background-color: #434B5C;\n",
              "      box-shadow: 0px 1px 3px 1px rgba(0, 0, 0, 0.15);\n",
              "      filter: drop-shadow(0px 1px 2px rgba(0, 0, 0, 0.3));\n",
              "      fill: #FFFFFF;\n",
              "    }\n",
              "  </style>\n",
              "\n",
              "      <script>\n",
              "        const buttonEl =\n",
              "          document.querySelector('#df-e37022c1-2f17-45c4-9bb9-2734da27705c button.colab-df-convert');\n",
              "        buttonEl.style.display =\n",
              "          google.colab.kernel.accessAllowed ? 'block' : 'none';\n",
              "\n",
              "        async function convertToInteractive(key) {\n",
              "          const element = document.querySelector('#df-e37022c1-2f17-45c4-9bb9-2734da27705c');\n",
              "          const dataTable =\n",
              "            await google.colab.kernel.invokeFunction('convertToInteractive',\n",
              "                                                     [key], {});\n",
              "          if (!dataTable) return;\n",
              "\n",
              "          const docLinkHtml = 'Like what you see? Visit the ' +\n",
              "            '<a target=\"_blank\" href=https://colab.research.google.com/notebooks/data_table.ipynb>data table notebook</a>'\n",
              "            + ' to learn more about interactive tables.';\n",
              "          element.innerHTML = '';\n",
              "          dataTable['output_type'] = 'display_data';\n",
              "          await google.colab.output.renderOutput(dataTable, element);\n",
              "          const docLink = document.createElement('div');\n",
              "          docLink.innerHTML = docLinkHtml;\n",
              "          element.appendChild(docLink);\n",
              "        }\n",
              "      </script>\n",
              "    </div>\n",
              "  </div>\n",
              "  "
            ]
          },
          "metadata": {},
          "execution_count": 7
        }
      ]
    },
    {
      "cell_type": "markdown",
      "source": [
        "Relação entre classe dos passageiros e idade"
      ],
      "metadata": {
        "id": "YWxmVnUEMeM4"
      }
    },
    {
      "cell_type": "code",
      "source": [
        "sb.boxplot(x=\"PClass\", y=\"Survived\", data=data)"
      ],
      "metadata": {
        "colab": {
          "base_uri": "https://localhost:8080/",
          "height": 253
        },
        "id": "0oTVDsEEMhzv",
        "outputId": "7a2d5e66-e9c1-4d76-95af-043df02f9644"
      },
      "execution_count": null,
      "outputs": [
        {
          "output_type": "error",
          "ename": "NameError",
          "evalue": "ignored",
          "traceback": [
            "\u001b[0;31m---------------------------------------------------------------------------\u001b[0m",
            "\u001b[0;31mNameError\u001b[0m                                 Traceback (most recent call last)",
            "\u001b[0;32m<ipython-input-1-e60552fb6167>\u001b[0m in \u001b[0;36m<module>\u001b[0;34m\u001b[0m\n\u001b[0;32m----> 1\u001b[0;31m \u001b[0msb\u001b[0m\u001b[0;34m.\u001b[0m\u001b[0mboxplot\u001b[0m\u001b[0;34m(\u001b[0m\u001b[0mx\u001b[0m\u001b[0;34m=\u001b[0m\u001b[0;34m\"PClass\"\u001b[0m\u001b[0;34m,\u001b[0m \u001b[0my\u001b[0m\u001b[0;34m=\u001b[0m\u001b[0;34m\"Survived\"\u001b[0m\u001b[0;34m,\u001b[0m \u001b[0mdata\u001b[0m\u001b[0;34m=\u001b[0m\u001b[0mdata\u001b[0m\u001b[0;34m)\u001b[0m\u001b[0;34m\u001b[0m\u001b[0;34m\u001b[0m\u001b[0m\n\u001b[0m",
            "\u001b[0;31mNameError\u001b[0m: name 'sb' is not defined"
          ]
        }
      ]
    },
    {
      "cell_type": "markdown",
      "source": [
        "Variáveis"
      ],
      "metadata": {
        "id": "WcFWndP3IAXL"
      }
    },
    {
      "cell_type": "code",
      "source": [
        "# Selecionar variáveis independentes\n",
        "x = data[[\"PClass\", \"Age\", \"Sex\"]]\n",
        "# Selecionar variáveis dependentes\n",
        "y = data[\"Survived\"]"
      ],
      "metadata": {
        "id": "g8K2jZbbJAeV"
      },
      "execution_count": null,
      "outputs": []
    },
    {
      "cell_type": "markdown",
      "source": [
        "Dividir conjunto de dados de treino do conjunto de dados de teste"
      ],
      "metadata": {
        "id": "uTVC76-NLT_u"
      }
    },
    {
      "cell_type": "code",
      "source": [
        "x_train, x_test, y_train, y_test = train_test_split(x,y, random_state=1)"
      ],
      "metadata": {
        "id": "t9_bhkEwLWFw"
      },
      "execution_count": null,
      "outputs": []
    },
    {
      "cell_type": "markdown",
      "source": [
        "Treinar Modelo"
      ],
      "metadata": {
        "id": "qgPVPr-qLibs"
      }
    },
    {
      "cell_type": "code",
      "source": [
        "# Definir algoritmo do modelo\n",
        "model = RandomForestClassifier(random_state=9)\n",
        "# Treinar o modelo\n",
        "model.fit(x_train,y_train)"
      ],
      "metadata": {
        "colab": {
          "base_uri": "https://localhost:8080/"
        },
        "id": "PDS2VYpkLlNc",
        "outputId": "54c83a22-b2ec-40f0-d005-031c93da7fa1"
      },
      "execution_count": null,
      "outputs": [
        {
          "output_type": "execute_result",
          "data": {
            "text/plain": [
              "RandomForestClassifier(random_state=9)"
            ]
          },
          "metadata": {},
          "execution_count": 10
        }
      ]
    },
    {
      "cell_type": "markdown",
      "source": [
        "Fazer previsão"
      ],
      "metadata": {
        "id": "9KE9jUZ8Ln3m"
      }
    },
    {
      "cell_type": "code",
      "source": [
        "y_pred = model.predict(x_test)"
      ],
      "metadata": {
        "id": "QemC_yJVLrCt"
      },
      "execution_count": null,
      "outputs": []
    },
    {
      "cell_type": "markdown",
      "source": [
        "Taxa de acerto do modelo"
      ],
      "metadata": {
        "id": "wjU-d5wfL0dn"
      }
    },
    {
      "cell_type": "code",
      "source": [
        "accuracy = accuracy_score(y_test,y_pred)\n",
        "accuracy"
      ],
      "metadata": {
        "colab": {
          "base_uri": "https://localhost:8080/"
        },
        "id": "L-HxubK5L3eO",
        "outputId": "a504bb93-3584-44b4-cbaf-66bde5cea856"
      },
      "execution_count": null,
      "outputs": [
        {
          "output_type": "execute_result",
          "data": {
            "text/plain": [
              "0.7883597883597884"
            ]
          },
          "metadata": {},
          "execution_count": 12
        }
      ]
    }
  ]
}
