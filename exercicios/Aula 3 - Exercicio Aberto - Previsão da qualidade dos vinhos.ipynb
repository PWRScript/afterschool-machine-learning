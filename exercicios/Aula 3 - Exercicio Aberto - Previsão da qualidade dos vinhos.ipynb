{
  "nbformat": 4,
  "nbformat_minor": 0,
  "metadata": {
    "colab": {
      "provenance": [],
      "collapsed_sections": [
        "-BnAXtYCrphW",
        "vtvbS0QBsbtb",
        "cYgT_D9UxnHK"
      ],
      "include_colab_link": true
    },
    "kernelspec": {
      "name": "python3",
      "display_name": "Python 3"
    }
  },
  "cells": [
    {
      "cell_type": "markdown",
      "metadata": {
        "id": "view-in-github",
        "colab_type": "text"
      },
      "source": [
        "<a href=\"https://colab.research.google.com/github/PWRScript/afterschool-machine-learning/blob/main/exercicios/Aula%203%20-%20Exercicio%20Aberto%20-%20Previs%C3%A3o%20da%20qualidade%20dos%20vinhos.ipynb\" target=\"_parent\"><img src=\"https://colab.research.google.com/assets/colab-badge.svg\" alt=\"Open In Colab\"/></a>"
      ]
    },
    {
      "cell_type": "markdown",
      "metadata": {
        "id": "m1AqiVXQxrTq"
      },
      "source": [
        "# Exercício em aberto\n",
        "\n",
        "## Enunciado\n",
        "\n",
        "Neste exercício, pretendemos prever a qualidade dos vinhos. Para tal, vamos ter em consideração diversas características químicas dos vinhos, tais como o seu teor alcoólico, pH e densidade.\n",
        "\n",
        "## Dados\n",
        "\n",
        "* Número de observações = 1599\n",
        "* Número de variáveis independentes = 11\n",
        " 1. fixed acidity = acidez fixa (g/dm^3)\n",
        " 1. volatile acidity = acidez volátil (g/dm^3)\n",
        " 1. citric acid = acidez cítrica (g/dm^3)\n",
        " 1. residual sugar = teor de açúcar residual (g/dm^3)\n",
        " 1. chlorides = teor de cloretos (g/dm^3)\n",
        " 1. free sulfur dioxide = teor de dióxido de enxofre livre (mg/dm^3)\n",
        " 1. total sulfur dioxide = teor de dióxido de enxofre total (mg/dm^3)\n",
        " 1. density = densidade (g/cm^3)\n",
        " 1. pH = pH\n",
        " 1. sulphates = teor de sulfatos (g/dm^3)\n",
        " 1. alcohol = teor alcoólico (%)\n",
        "* Número de variáveis dependentes = 1\n",
        " 1. quality = qualidade do vinho (0 para vinhos de qualidade mínima, 10 para vinhos de qualidade máxima)\n",
        "\n",
        "Dados disponíveis em: https://raw.githubusercontent.com/pmarcelino/datasets/master/red-wine-modified-md.csv.\n",
        "\n",
        "## Instruções\n",
        "\n",
        "Na tua resolução deves:\n",
        "\n",
        "* Usar um diagrama de extremos e quartis para detetar se há erros e anomalias na variável 'pH'\n",
        "* Estabelecer, pelo menos, uma hipótese inicial que relacione a qualidade do vinho com uma ou mais variáveis independentes\n",
        "* Criar um ou mais gráficos de dispersão que testem a(s) hipótese(s) formulada(s)"
      ]
    },
    {
      "cell_type": "markdown",
      "metadata": {
        "id": "fMRTQpZOxvzC"
      },
      "source": [
        "# Resolução"
      ]
    },
    {
      "cell_type": "markdown",
      "source": [
        "## Importar bibliotecas"
      ],
      "metadata": {
        "id": "-BnAXtYCrphW"
      }
    },
    {
      "cell_type": "code",
      "metadata": {
        "id": "p3JDWwVmOffe"
      },
      "source": [
        "# Preparação de Dados\n",
        "import pandas as pd\n",
        "# Exploração de Dados\n",
        "import seaborn as sb\n",
        "\n",
        "# Treinar e avaliar modelos\n",
        "from sklearn.model_selection import train_test_split\n",
        "from sklearn.ensemble import RandomForestClassifier\n",
        "from sklearn.metrics import accuracy_score"
      ],
      "execution_count": 25,
      "outputs": []
    },
    {
      "cell_type": "markdown",
      "source": [
        "## Preparação de *Dados* \n"
      ],
      "metadata": {
        "id": "vtvbS0QBsbtb"
      }
    },
    {
      "cell_type": "markdown",
      "source": [
        "### Obter dados"
      ],
      "metadata": {
        "id": "CEBn9VtgtzGv"
      }
    },
    {
      "cell_type": "code",
      "source": [
        "# Onde está localizado o dataset\n",
        "dataset_url = \"https://raw.githubusercontent.com/pmarcelino/datasets/master/red-wine-modified-md.csv\"\n",
        "\n",
        "# Carregar dataset numa Dataframe do Pandas para exploração e tratamento de modelos\n",
        "data = pd.read_csv(dataset_url)\n",
        "\n",
        "# Visualizar dados (sem tratamento)\n",
        "data"
      ],
      "metadata": {
        "id": "l8HGD5ztskML",
        "outputId": "0cf1b598-ba8c-432b-d07c-e6bca1a35755",
        "colab": {
          "base_uri": "https://localhost:8080/",
          "height": 0
        }
      },
      "execution_count": 26,
      "outputs": [
        {
          "output_type": "execute_result",
          "data": {
            "text/plain": [
              "      fixed acidity  volatile acidity  citric acid  residual sugar  chlorides  \\\n",
              "0               7.4             0.700         0.00             1.9      0.076   \n",
              "1               7.8               NaN         0.00             2.6      0.098   \n",
              "2               7.8             0.760         0.04             2.3      0.092   \n",
              "3              11.2             0.280         0.56             1.9      0.075   \n",
              "4               7.4             0.700         0.00             1.9      0.076   \n",
              "...             ...               ...          ...             ...        ...   \n",
              "1594            6.2             0.600         0.08             2.0      0.090   \n",
              "1595            5.9             0.550         0.10             2.2      0.062   \n",
              "1596            6.3             0.510         0.13             2.3      0.076   \n",
              "1597            5.9             0.645         0.12             NaN        NaN   \n",
              "1598            6.0             0.310         0.47             3.6      0.067   \n",
              "\n",
              "      free sulfur dioxide  total sulfur dioxide  density    pH  sulphates  \\\n",
              "0                    11.0                  34.0  0.99780  3.51       0.56   \n",
              "1                     NaN                  67.0  0.99680  3.20        NaN   \n",
              "2                    15.0                  54.0  0.99700  3.26       0.65   \n",
              "3                    17.0                  60.0  0.99800  3.16       0.58   \n",
              "4                    11.0                  34.0  0.99780  3.51       0.56   \n",
              "...                   ...                   ...      ...   ...        ...   \n",
              "1594                 32.0                  44.0  0.99490  3.45       0.58   \n",
              "1595                 39.0                  51.0  0.99512  3.52       0.76   \n",
              "1596                 29.0                  40.0  0.99574  3.42       0.75   \n",
              "1597                  NaN                   NaN      NaN   NaN        NaN   \n",
              "1598                 18.0                  42.0  0.99549  3.39       0.66   \n",
              "\n",
              "      alcohol  quality  \n",
              "0         9.4      5.0  \n",
              "1         9.8      5.0  \n",
              "2         9.8      5.0  \n",
              "3         9.8      6.0  \n",
              "4         9.4      5.0  \n",
              "...       ...      ...  \n",
              "1594     10.5      5.0  \n",
              "1595     11.2      6.0  \n",
              "1596     11.0      6.0  \n",
              "1597      NaN      NaN  \n",
              "1598     11.0      6.0  \n",
              "\n",
              "[1599 rows x 12 columns]"
            ],
            "text/html": [
              "\n",
              "  <div id=\"df-12b79be7-712d-4609-89be-6c57c73c0d1c\">\n",
              "    <div class=\"colab-df-container\">\n",
              "      <div>\n",
              "<style scoped>\n",
              "    .dataframe tbody tr th:only-of-type {\n",
              "        vertical-align: middle;\n",
              "    }\n",
              "\n",
              "    .dataframe tbody tr th {\n",
              "        vertical-align: top;\n",
              "    }\n",
              "\n",
              "    .dataframe thead th {\n",
              "        text-align: right;\n",
              "    }\n",
              "</style>\n",
              "<table border=\"1\" class=\"dataframe\">\n",
              "  <thead>\n",
              "    <tr style=\"text-align: right;\">\n",
              "      <th></th>\n",
              "      <th>fixed acidity</th>\n",
              "      <th>volatile acidity</th>\n",
              "      <th>citric acid</th>\n",
              "      <th>residual sugar</th>\n",
              "      <th>chlorides</th>\n",
              "      <th>free sulfur dioxide</th>\n",
              "      <th>total sulfur dioxide</th>\n",
              "      <th>density</th>\n",
              "      <th>pH</th>\n",
              "      <th>sulphates</th>\n",
              "      <th>alcohol</th>\n",
              "      <th>quality</th>\n",
              "    </tr>\n",
              "  </thead>\n",
              "  <tbody>\n",
              "    <tr>\n",
              "      <th>0</th>\n",
              "      <td>7.4</td>\n",
              "      <td>0.700</td>\n",
              "      <td>0.00</td>\n",
              "      <td>1.9</td>\n",
              "      <td>0.076</td>\n",
              "      <td>11.0</td>\n",
              "      <td>34.0</td>\n",
              "      <td>0.99780</td>\n",
              "      <td>3.51</td>\n",
              "      <td>0.56</td>\n",
              "      <td>9.4</td>\n",
              "      <td>5.0</td>\n",
              "    </tr>\n",
              "    <tr>\n",
              "      <th>1</th>\n",
              "      <td>7.8</td>\n",
              "      <td>NaN</td>\n",
              "      <td>0.00</td>\n",
              "      <td>2.6</td>\n",
              "      <td>0.098</td>\n",
              "      <td>NaN</td>\n",
              "      <td>67.0</td>\n",
              "      <td>0.99680</td>\n",
              "      <td>3.20</td>\n",
              "      <td>NaN</td>\n",
              "      <td>9.8</td>\n",
              "      <td>5.0</td>\n",
              "    </tr>\n",
              "    <tr>\n",
              "      <th>2</th>\n",
              "      <td>7.8</td>\n",
              "      <td>0.760</td>\n",
              "      <td>0.04</td>\n",
              "      <td>2.3</td>\n",
              "      <td>0.092</td>\n",
              "      <td>15.0</td>\n",
              "      <td>54.0</td>\n",
              "      <td>0.99700</td>\n",
              "      <td>3.26</td>\n",
              "      <td>0.65</td>\n",
              "      <td>9.8</td>\n",
              "      <td>5.0</td>\n",
              "    </tr>\n",
              "    <tr>\n",
              "      <th>3</th>\n",
              "      <td>11.2</td>\n",
              "      <td>0.280</td>\n",
              "      <td>0.56</td>\n",
              "      <td>1.9</td>\n",
              "      <td>0.075</td>\n",
              "      <td>17.0</td>\n",
              "      <td>60.0</td>\n",
              "      <td>0.99800</td>\n",
              "      <td>3.16</td>\n",
              "      <td>0.58</td>\n",
              "      <td>9.8</td>\n",
              "      <td>6.0</td>\n",
              "    </tr>\n",
              "    <tr>\n",
              "      <th>4</th>\n",
              "      <td>7.4</td>\n",
              "      <td>0.700</td>\n",
              "      <td>0.00</td>\n",
              "      <td>1.9</td>\n",
              "      <td>0.076</td>\n",
              "      <td>11.0</td>\n",
              "      <td>34.0</td>\n",
              "      <td>0.99780</td>\n",
              "      <td>3.51</td>\n",
              "      <td>0.56</td>\n",
              "      <td>9.4</td>\n",
              "      <td>5.0</td>\n",
              "    </tr>\n",
              "    <tr>\n",
              "      <th>...</th>\n",
              "      <td>...</td>\n",
              "      <td>...</td>\n",
              "      <td>...</td>\n",
              "      <td>...</td>\n",
              "      <td>...</td>\n",
              "      <td>...</td>\n",
              "      <td>...</td>\n",
              "      <td>...</td>\n",
              "      <td>...</td>\n",
              "      <td>...</td>\n",
              "      <td>...</td>\n",
              "      <td>...</td>\n",
              "    </tr>\n",
              "    <tr>\n",
              "      <th>1594</th>\n",
              "      <td>6.2</td>\n",
              "      <td>0.600</td>\n",
              "      <td>0.08</td>\n",
              "      <td>2.0</td>\n",
              "      <td>0.090</td>\n",
              "      <td>32.0</td>\n",
              "      <td>44.0</td>\n",
              "      <td>0.99490</td>\n",
              "      <td>3.45</td>\n",
              "      <td>0.58</td>\n",
              "      <td>10.5</td>\n",
              "      <td>5.0</td>\n",
              "    </tr>\n",
              "    <tr>\n",
              "      <th>1595</th>\n",
              "      <td>5.9</td>\n",
              "      <td>0.550</td>\n",
              "      <td>0.10</td>\n",
              "      <td>2.2</td>\n",
              "      <td>0.062</td>\n",
              "      <td>39.0</td>\n",
              "      <td>51.0</td>\n",
              "      <td>0.99512</td>\n",
              "      <td>3.52</td>\n",
              "      <td>0.76</td>\n",
              "      <td>11.2</td>\n",
              "      <td>6.0</td>\n",
              "    </tr>\n",
              "    <tr>\n",
              "      <th>1596</th>\n",
              "      <td>6.3</td>\n",
              "      <td>0.510</td>\n",
              "      <td>0.13</td>\n",
              "      <td>2.3</td>\n",
              "      <td>0.076</td>\n",
              "      <td>29.0</td>\n",
              "      <td>40.0</td>\n",
              "      <td>0.99574</td>\n",
              "      <td>3.42</td>\n",
              "      <td>0.75</td>\n",
              "      <td>11.0</td>\n",
              "      <td>6.0</td>\n",
              "    </tr>\n",
              "    <tr>\n",
              "      <th>1597</th>\n",
              "      <td>5.9</td>\n",
              "      <td>0.645</td>\n",
              "      <td>0.12</td>\n",
              "      <td>NaN</td>\n",
              "      <td>NaN</td>\n",
              "      <td>NaN</td>\n",
              "      <td>NaN</td>\n",
              "      <td>NaN</td>\n",
              "      <td>NaN</td>\n",
              "      <td>NaN</td>\n",
              "      <td>NaN</td>\n",
              "      <td>NaN</td>\n",
              "    </tr>\n",
              "    <tr>\n",
              "      <th>1598</th>\n",
              "      <td>6.0</td>\n",
              "      <td>0.310</td>\n",
              "      <td>0.47</td>\n",
              "      <td>3.6</td>\n",
              "      <td>0.067</td>\n",
              "      <td>18.0</td>\n",
              "      <td>42.0</td>\n",
              "      <td>0.99549</td>\n",
              "      <td>3.39</td>\n",
              "      <td>0.66</td>\n",
              "      <td>11.0</td>\n",
              "      <td>6.0</td>\n",
              "    </tr>\n",
              "  </tbody>\n",
              "</table>\n",
              "<p>1599 rows × 12 columns</p>\n",
              "</div>\n",
              "      <button class=\"colab-df-convert\" onclick=\"convertToInteractive('df-12b79be7-712d-4609-89be-6c57c73c0d1c')\"\n",
              "              title=\"Convert this dataframe to an interactive table.\"\n",
              "              style=\"display:none;\">\n",
              "        \n",
              "  <svg xmlns=\"http://www.w3.org/2000/svg\" height=\"24px\"viewBox=\"0 0 24 24\"\n",
              "       width=\"24px\">\n",
              "    <path d=\"M0 0h24v24H0V0z\" fill=\"none\"/>\n",
              "    <path d=\"M18.56 5.44l.94 2.06.94-2.06 2.06-.94-2.06-.94-.94-2.06-.94 2.06-2.06.94zm-11 1L8.5 8.5l.94-2.06 2.06-.94-2.06-.94L8.5 2.5l-.94 2.06-2.06.94zm10 10l.94 2.06.94-2.06 2.06-.94-2.06-.94-.94-2.06-.94 2.06-2.06.94z\"/><path d=\"M17.41 7.96l-1.37-1.37c-.4-.4-.92-.59-1.43-.59-.52 0-1.04.2-1.43.59L10.3 9.45l-7.72 7.72c-.78.78-.78 2.05 0 2.83L4 21.41c.39.39.9.59 1.41.59.51 0 1.02-.2 1.41-.59l7.78-7.78 2.81-2.81c.8-.78.8-2.07 0-2.86zM5.41 20L4 18.59l7.72-7.72 1.47 1.35L5.41 20z\"/>\n",
              "  </svg>\n",
              "      </button>\n",
              "      \n",
              "  <style>\n",
              "    .colab-df-container {\n",
              "      display:flex;\n",
              "      flex-wrap:wrap;\n",
              "      gap: 12px;\n",
              "    }\n",
              "\n",
              "    .colab-df-convert {\n",
              "      background-color: #E8F0FE;\n",
              "      border: none;\n",
              "      border-radius: 50%;\n",
              "      cursor: pointer;\n",
              "      display: none;\n",
              "      fill: #1967D2;\n",
              "      height: 32px;\n",
              "      padding: 0 0 0 0;\n",
              "      width: 32px;\n",
              "    }\n",
              "\n",
              "    .colab-df-convert:hover {\n",
              "      background-color: #E2EBFA;\n",
              "      box-shadow: 0px 1px 2px rgba(60, 64, 67, 0.3), 0px 1px 3px 1px rgba(60, 64, 67, 0.15);\n",
              "      fill: #174EA6;\n",
              "    }\n",
              "\n",
              "    [theme=dark] .colab-df-convert {\n",
              "      background-color: #3B4455;\n",
              "      fill: #D2E3FC;\n",
              "    }\n",
              "\n",
              "    [theme=dark] .colab-df-convert:hover {\n",
              "      background-color: #434B5C;\n",
              "      box-shadow: 0px 1px 3px 1px rgba(0, 0, 0, 0.15);\n",
              "      filter: drop-shadow(0px 1px 2px rgba(0, 0, 0, 0.3));\n",
              "      fill: #FFFFFF;\n",
              "    }\n",
              "  </style>\n",
              "\n",
              "      <script>\n",
              "        const buttonEl =\n",
              "          document.querySelector('#df-12b79be7-712d-4609-89be-6c57c73c0d1c button.colab-df-convert');\n",
              "        buttonEl.style.display =\n",
              "          google.colab.kernel.accessAllowed ? 'block' : 'none';\n",
              "\n",
              "        async function convertToInteractive(key) {\n",
              "          const element = document.querySelector('#df-12b79be7-712d-4609-89be-6c57c73c0d1c');\n",
              "          const dataTable =\n",
              "            await google.colab.kernel.invokeFunction('convertToInteractive',\n",
              "                                                     [key], {});\n",
              "          if (!dataTable) return;\n",
              "\n",
              "          const docLinkHtml = 'Like what you see? Visit the ' +\n",
              "            '<a target=\"_blank\" href=https://colab.research.google.com/notebooks/data_table.ipynb>data table notebook</a>'\n",
              "            + ' to learn more about interactive tables.';\n",
              "          element.innerHTML = '';\n",
              "          dataTable['output_type'] = 'display_data';\n",
              "          await google.colab.output.renderOutput(dataTable, element);\n",
              "          const docLink = document.createElement('div');\n",
              "          docLink.innerHTML = docLinkHtml;\n",
              "          element.appendChild(docLink);\n",
              "        }\n",
              "      </script>\n",
              "    </div>\n",
              "  </div>\n",
              "  "
            ]
          },
          "metadata": {},
          "execution_count": 26
        }
      ]
    },
    {
      "cell_type": "markdown",
      "source": [
        "### Verificar se faltam dados e completar o dataset se necessário"
      ],
      "metadata": {
        "id": "Q4yRdJLJt9iM"
      }
    },
    {
      "cell_type": "code",
      "source": [
        "# Colunas com dados em falta\n",
        "data.isnull().sum()"
      ],
      "metadata": {
        "id": "BhSnx1uGuEZL",
        "outputId": "a190206c-0b59-47dd-8123-8baffae2119c",
        "colab": {
          "base_uri": "https://localhost:8080/"
        }
      },
      "execution_count": 27,
      "outputs": [
        {
          "output_type": "execute_result",
          "data": {
            "text/plain": [
              "fixed acidity            0\n",
              "volatile acidity         8\n",
              "citric acid              7\n",
              "residual sugar          14\n",
              "chlorides               13\n",
              "free sulfur dioxide     14\n",
              "total sulfur dioxide    12\n",
              "density                 12\n",
              "pH                      11\n",
              "sulphates               11\n",
              "alcohol                 10\n",
              "quality                 10\n",
              "dtype: int64"
            ]
          },
          "metadata": {},
          "execution_count": 27
        }
      ]
    },
    {
      "cell_type": "code",
      "source": [
        "# Remover colunas com dados não necessários para previsão do modelo\n",
        "data = data.drop(\"fixed acidity\",axis=1)\n",
        "data = data.drop(\"volatile acidity\",axis=1)\n",
        "data = data.drop(\"citric acid\",axis=1)\n",
        "data = data.drop(\"residual sugar\",axis=1)\n",
        "data = data.drop(\"chlorides\",axis=1)\n",
        "data = data.drop(\"free sulfur dioxide\",axis=1)\n",
        "data = data.drop(\"total sulfur dioxide\",axis=1)\n",
        "data = data.drop(\"sulphates\",axis=1)"
      ],
      "metadata": {
        "id": "hhKlbaXluVHd"
      },
      "execution_count": 28,
      "outputs": []
    },
    {
      "cell_type": "code",
      "source": [
        "# Remover linhas que não possuam valores (pois são variaveis essenciais iriam induzir a maior taxa de erros nas previsões)\n",
        "data = data.dropna()"
      ],
      "metadata": {
        "id": "M3ZGZsc7vtnl"
      },
      "execution_count": 29,
      "outputs": []
    },
    {
      "cell_type": "code",
      "source": [
        "# Verificar se ainda existem colunas com dados em falta\n",
        "data.isnull().sum()"
      ],
      "metadata": {
        "id": "PQWjyFvYwc_X",
        "outputId": "822b250d-1dcb-4bdf-dd6f-9f50a027baec",
        "colab": {
          "base_uri": "https://localhost:8080/"
        }
      },
      "execution_count": 30,
      "outputs": [
        {
          "output_type": "execute_result",
          "data": {
            "text/plain": [
              "density    0\n",
              "pH         0\n",
              "alcohol    0\n",
              "quality    0\n",
              "dtype: int64"
            ]
          },
          "metadata": {},
          "execution_count": 30
        }
      ]
    },
    {
      "cell_type": "markdown",
      "source": [],
      "metadata": {
        "id": "3Q8Kz68evebB"
      }
    },
    {
      "cell_type": "markdown",
      "source": [
        "## Exploração de Dados"
      ],
      "metadata": {
        "id": "cYgT_D9UxnHK"
      }
    },
    {
      "cell_type": "markdown",
      "source": [
        "### Verificar anormalias e erros, corrigindo se necessário\n"
      ],
      "metadata": {
        "id": "5qab5sH5x4ef"
      }
    },
    {
      "cell_type": "code",
      "source": [
        "# Através dos valores observados usando as estatisticas de tabela do pandas\n",
        "data.describe()"
      ],
      "metadata": {
        "id": "RpZSsCs_xr6u",
        "outputId": "b62bcb32-e907-4246-e491-17c2ab34cc35",
        "colab": {
          "base_uri": "https://localhost:8080/",
          "height": 300
        }
      },
      "execution_count": 31,
      "outputs": [
        {
          "output_type": "execute_result",
          "data": {
            "text/plain": [
              "           density           pH      alcohol      quality\n",
              "count  1586.000000  1586.000000  1586.000000  1586.000000\n",
              "mean      0.996747     3.310706    10.424685     5.637453\n",
              "std       0.001889     0.153839     1.065668     0.808681\n",
              "min       0.990070     2.740000     8.400000     3.000000\n",
              "25%       0.995600     3.210000     9.500000     5.000000\n",
              "50%       0.996750     3.310000    10.200000     6.000000\n",
              "75%       0.997837     3.400000    11.100000     6.000000\n",
              "max       1.003690     4.010000    14.900000     8.000000"
            ],
            "text/html": [
              "\n",
              "  <div id=\"df-0f552f59-c833-40cb-9041-c282974f658e\">\n",
              "    <div class=\"colab-df-container\">\n",
              "      <div>\n",
              "<style scoped>\n",
              "    .dataframe tbody tr th:only-of-type {\n",
              "        vertical-align: middle;\n",
              "    }\n",
              "\n",
              "    .dataframe tbody tr th {\n",
              "        vertical-align: top;\n",
              "    }\n",
              "\n",
              "    .dataframe thead th {\n",
              "        text-align: right;\n",
              "    }\n",
              "</style>\n",
              "<table border=\"1\" class=\"dataframe\">\n",
              "  <thead>\n",
              "    <tr style=\"text-align: right;\">\n",
              "      <th></th>\n",
              "      <th>density</th>\n",
              "      <th>pH</th>\n",
              "      <th>alcohol</th>\n",
              "      <th>quality</th>\n",
              "    </tr>\n",
              "  </thead>\n",
              "  <tbody>\n",
              "    <tr>\n",
              "      <th>count</th>\n",
              "      <td>1586.000000</td>\n",
              "      <td>1586.000000</td>\n",
              "      <td>1586.000000</td>\n",
              "      <td>1586.000000</td>\n",
              "    </tr>\n",
              "    <tr>\n",
              "      <th>mean</th>\n",
              "      <td>0.996747</td>\n",
              "      <td>3.310706</td>\n",
              "      <td>10.424685</td>\n",
              "      <td>5.637453</td>\n",
              "    </tr>\n",
              "    <tr>\n",
              "      <th>std</th>\n",
              "      <td>0.001889</td>\n",
              "      <td>0.153839</td>\n",
              "      <td>1.065668</td>\n",
              "      <td>0.808681</td>\n",
              "    </tr>\n",
              "    <tr>\n",
              "      <th>min</th>\n",
              "      <td>0.990070</td>\n",
              "      <td>2.740000</td>\n",
              "      <td>8.400000</td>\n",
              "      <td>3.000000</td>\n",
              "    </tr>\n",
              "    <tr>\n",
              "      <th>25%</th>\n",
              "      <td>0.995600</td>\n",
              "      <td>3.210000</td>\n",
              "      <td>9.500000</td>\n",
              "      <td>5.000000</td>\n",
              "    </tr>\n",
              "    <tr>\n",
              "      <th>50%</th>\n",
              "      <td>0.996750</td>\n",
              "      <td>3.310000</td>\n",
              "      <td>10.200000</td>\n",
              "      <td>6.000000</td>\n",
              "    </tr>\n",
              "    <tr>\n",
              "      <th>75%</th>\n",
              "      <td>0.997837</td>\n",
              "      <td>3.400000</td>\n",
              "      <td>11.100000</td>\n",
              "      <td>6.000000</td>\n",
              "    </tr>\n",
              "    <tr>\n",
              "      <th>max</th>\n",
              "      <td>1.003690</td>\n",
              "      <td>4.010000</td>\n",
              "      <td>14.900000</td>\n",
              "      <td>8.000000</td>\n",
              "    </tr>\n",
              "  </tbody>\n",
              "</table>\n",
              "</div>\n",
              "      <button class=\"colab-df-convert\" onclick=\"convertToInteractive('df-0f552f59-c833-40cb-9041-c282974f658e')\"\n",
              "              title=\"Convert this dataframe to an interactive table.\"\n",
              "              style=\"display:none;\">\n",
              "        \n",
              "  <svg xmlns=\"http://www.w3.org/2000/svg\" height=\"24px\"viewBox=\"0 0 24 24\"\n",
              "       width=\"24px\">\n",
              "    <path d=\"M0 0h24v24H0V0z\" fill=\"none\"/>\n",
              "    <path d=\"M18.56 5.44l.94 2.06.94-2.06 2.06-.94-2.06-.94-.94-2.06-.94 2.06-2.06.94zm-11 1L8.5 8.5l.94-2.06 2.06-.94-2.06-.94L8.5 2.5l-.94 2.06-2.06.94zm10 10l.94 2.06.94-2.06 2.06-.94-2.06-.94-.94-2.06-.94 2.06-2.06.94z\"/><path d=\"M17.41 7.96l-1.37-1.37c-.4-.4-.92-.59-1.43-.59-.52 0-1.04.2-1.43.59L10.3 9.45l-7.72 7.72c-.78.78-.78 2.05 0 2.83L4 21.41c.39.39.9.59 1.41.59.51 0 1.02-.2 1.41-.59l7.78-7.78 2.81-2.81c.8-.78.8-2.07 0-2.86zM5.41 20L4 18.59l7.72-7.72 1.47 1.35L5.41 20z\"/>\n",
              "  </svg>\n",
              "      </button>\n",
              "      \n",
              "  <style>\n",
              "    .colab-df-container {\n",
              "      display:flex;\n",
              "      flex-wrap:wrap;\n",
              "      gap: 12px;\n",
              "    }\n",
              "\n",
              "    .colab-df-convert {\n",
              "      background-color: #E8F0FE;\n",
              "      border: none;\n",
              "      border-radius: 50%;\n",
              "      cursor: pointer;\n",
              "      display: none;\n",
              "      fill: #1967D2;\n",
              "      height: 32px;\n",
              "      padding: 0 0 0 0;\n",
              "      width: 32px;\n",
              "    }\n",
              "\n",
              "    .colab-df-convert:hover {\n",
              "      background-color: #E2EBFA;\n",
              "      box-shadow: 0px 1px 2px rgba(60, 64, 67, 0.3), 0px 1px 3px 1px rgba(60, 64, 67, 0.15);\n",
              "      fill: #174EA6;\n",
              "    }\n",
              "\n",
              "    [theme=dark] .colab-df-convert {\n",
              "      background-color: #3B4455;\n",
              "      fill: #D2E3FC;\n",
              "    }\n",
              "\n",
              "    [theme=dark] .colab-df-convert:hover {\n",
              "      background-color: #434B5C;\n",
              "      box-shadow: 0px 1px 3px 1px rgba(0, 0, 0, 0.15);\n",
              "      filter: drop-shadow(0px 1px 2px rgba(0, 0, 0, 0.3));\n",
              "      fill: #FFFFFF;\n",
              "    }\n",
              "  </style>\n",
              "\n",
              "      <script>\n",
              "        const buttonEl =\n",
              "          document.querySelector('#df-0f552f59-c833-40cb-9041-c282974f658e button.colab-df-convert');\n",
              "        buttonEl.style.display =\n",
              "          google.colab.kernel.accessAllowed ? 'block' : 'none';\n",
              "\n",
              "        async function convertToInteractive(key) {\n",
              "          const element = document.querySelector('#df-0f552f59-c833-40cb-9041-c282974f658e');\n",
              "          const dataTable =\n",
              "            await google.colab.kernel.invokeFunction('convertToInteractive',\n",
              "                                                     [key], {});\n",
              "          if (!dataTable) return;\n",
              "\n",
              "          const docLinkHtml = 'Like what you see? Visit the ' +\n",
              "            '<a target=\"_blank\" href=https://colab.research.google.com/notebooks/data_table.ipynb>data table notebook</a>'\n",
              "            + ' to learn more about interactive tables.';\n",
              "          element.innerHTML = '';\n",
              "          dataTable['output_type'] = 'display_data';\n",
              "          await google.colab.output.renderOutput(dataTable, element);\n",
              "          const docLink = document.createElement('div');\n",
              "          docLink.innerHTML = docLinkHtml;\n",
              "          element.appendChild(docLink);\n",
              "        }\n",
              "      </script>\n",
              "    </div>\n",
              "  </div>\n",
              "  "
            ]
          },
          "metadata": {},
          "execution_count": 31
        }
      ]
    },
    {
      "cell_type": "code",
      "source": [
        "# Diagrama de extremos e quartis para detetar se há erros e anomalias na variável 'pH'\n",
        "sb.boxplot(x=\"pH\", data=data)"
      ],
      "metadata": {
        "id": "NH1qL7IDy2iG",
        "outputId": "3b8487d2-0d07-497d-9de3-d190a1ce3f92",
        "colab": {
          "base_uri": "https://localhost:8080/",
          "height": 298
        }
      },
      "execution_count": 32,
      "outputs": [
        {
          "output_type": "execute_result",
          "data": {
            "text/plain": [
              "<matplotlib.axes._subplots.AxesSubplot at 0x7ff8cf33de90>"
            ]
          },
          "metadata": {},
          "execution_count": 32
        },
        {
          "output_type": "display_data",
          "data": {
            "text/plain": [
              "<Figure size 432x288 with 1 Axes>"
            ],
            "image/png": "[encoded data removed]"
          },
          "metadata": {
            "needs_background": "light"
          }
        }
      ]
    },
    {
      "cell_type": "markdown",
      "source": [
        "Consultando a internet sobre o pH comum dos vinhos: \n",
        "\n",
        "![image.png](data:image/png;base64,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)\n",
        "\n",
        "Podemos concluir que o menor pH existente no dataset é de 2.740000 e o maior pH existente no dataset é de 4.010000, o que segundo a informação encontrada na internet (que estabelece que 2.6 a 4.2 é o pH normal dos vinhos) podemos verificar que não existem erros nem anormalias no pH dos vinhos"
      ],
      "metadata": {
        "id": "nnnjh3_8zzcl"
      }
    },
    {
      "cell_type": "markdown",
      "source": [
        "### Análises via gráficos e estabelecimento de teorias sobre a relação entre as variáveis e a qualidade dos vinhos"
      ],
      "metadata": {
        "id": "0QulJ53R1MmS"
      }
    },
    {
      "cell_type": "markdown",
      "source": [
        "Segundo a minha análise inicial tenho como visão inicial sem qualquer visualização de gráficos a seguinte ideia:\n",
        "\n",
        "*   **pH** mais baixo implica um vinho mais ácido o que afeta a qualidade do  vinho negativamente\n",
        "*   **Álcool** mais elevado torna o consumo do vinho mais aliciante, o que aumenta a sua classificação\n",
        "*   **Densidade** mais baixa significa maior qualidade do vinho pois este não é tão \"forte\" no organismo\n",
        "\n",
        "**Agora vou realizar uma análise destas 3 variáveis para verificar se os dados da minha análise incial se confirma:**"
      ],
      "metadata": {
        "id": "-Nklz-9MhGAp"
      }
    },
    {
      "cell_type": "code",
      "source": [
        "# Relacionando a qualidade do vinho com o seu pH \n",
        "sb.regplot(\n",
        "    data=data, \n",
        "    x='pH', \n",
        "    y='quality',\n",
        "    scatter=True\n",
        ")"
      ],
      "metadata": {
        "id": "BtcATf2i2YsY",
        "outputId": "c7e4a462-6805-4465-9267-335434cbc52b",
        "colab": {
          "base_uri": "https://localhost:8080/",
          "height": 298
        }
      },
      "execution_count": 33,
      "outputs": [
        {
          "output_type": "execute_result",
          "data": {
            "text/plain": [
              "<matplotlib.axes._subplots.AxesSubplot at 0x7ff8ccbc3f10>"
            ]
          },
          "metadata": {},
          "execution_count": 33
        },
        {
          "output_type": "display_data",
          "data": {
            "text/plain": [
              "<Figure size 432x288 with 1 Axes>"
            ],
            "image/png": "[encoded data removed]"
          },
          "metadata": {
            "needs_background": "light"
          }
        }
      ]
    },
    {
      "cell_type": "code",
      "source": [
        "# Relacionando a qualidade do vinho com o seu teor alcólico\n",
        "sb.regplot(\n",
        "    data=data, \n",
        "    x='alcohol', \n",
        "    y='quality',\n",
        "    scatter=True\n",
        ")"
      ],
      "metadata": {
        "colab": {
          "base_uri": "https://localhost:8080/",
          "height": 298
        },
        "id": "dhWsLhPdHhEf",
        "outputId": "0ca20cb6-64cb-4f01-9284-3681f8f8d945"
      },
      "execution_count": 34,
      "outputs": [
        {
          "output_type": "execute_result",
          "data": {
            "text/plain": [
              "<matplotlib.axes._subplots.AxesSubplot at 0x7ff8ccb49bd0>"
            ]
          },
          "metadata": {},
          "execution_count": 34
        },
        {
          "output_type": "display_data",
          "data": {
            "text/plain": [
              "<Figure size 432x288 with 1 Axes>"
            ],
            "image/png": "[encoded data removed]"
          },
          "metadata": {
            "needs_background": "light"
          }
        }
      ]
    },
    {
      "cell_type": "code",
      "source": [
        "# Relacionando a qualidade do vinho com a sua densidade\n",
        "sb.regplot(\n",
        "    data=data, \n",
        "    x='density', \n",
        "    y='quality',\n",
        "    scatter=True\n",
        ")"
      ],
      "metadata": {
        "colab": {
          "base_uri": "https://localhost:8080/",
          "height": 298
        },
        "id": "S0OfTv0yID-0",
        "outputId": "1d0d318d-6f95-404c-a019-6f8b665523a1"
      },
      "execution_count": 35,
      "outputs": [
        {
          "output_type": "execute_result",
          "data": {
            "text/plain": [
              "<matplotlib.axes._subplots.AxesSubplot at 0x7ff8ccb40b50>"
            ]
          },
          "metadata": {},
          "execution_count": 35
        },
        {
          "output_type": "display_data",
          "data": {
            "text/plain": [
              "<Figure size 432x288 with 1 Axes>"
            ],
            "image/png": "[encoded data removed]"
          },
          "metadata": {
            "needs_background": "light"
          }
        }
      ]
    },
    {
      "cell_type": "markdown",
      "source": [
        "**Relacionando os 3 elementos, podemos tirar as seguintes conclusões:**\n",
        "\n",
        "\n",
        "1.   Com o aumento do **pH** podemos observar uma ligeira queda na **qualidade** do vinho (na ordem de 4 a 6%)\n",
        "2.   Com o aumento do **álcool** podemos observar um aumento bismal na **qualidade** do vinho (na ordem dos 20 a 22%)\n",
        "3.   Com o aumento da **densidade** podemos observar uma descida bismal na **qualidade** do vinho (na ordem dos 8 a 10%)\n",
        "\n",
        "Posso verificar que as minhas análises iniciais estavam corretas, o que permite agora maior facilidade no treino do modelo\n",
        "\n"
      ],
      "metadata": {
        "id": "k_a8BT1UIZuI"
      }
    },
    {
      "cell_type": "markdown",
      "source": [
        "## Treinar modelo"
      ],
      "metadata": {
        "id": "VSxd-fK5i6oG"
      }
    },
    {
      "cell_type": "markdown",
      "source": [
        "### Variáveis dependentes e independentes"
      ],
      "metadata": {
        "id": "fBfwuhyojG7b"
      }
    },
    {
      "cell_type": "code",
      "source": [
        "# Variáveis independentes\n",
        "x = data.drop(\"quality\", axis=1)\n",
        "# Variável Dependente\n",
        "y = data[\"quality\"]"
      ],
      "metadata": {
        "id": "s0RCQ2CTjPY4"
      },
      "execution_count": 36,
      "outputs": []
    },
    {
      "cell_type": "markdown",
      "source": [
        "### Dividir conjunto de dados de treino do conjunto de dados de teste"
      ],
      "metadata": {
        "id": "i9KxSUV6jjOX"
      }
    },
    {
      "cell_type": "code",
      "source": [
        "x_train, x_test, y_train, y_test = train_test_split(x,y, random_state=1)"
      ],
      "metadata": {
        "id": "KUHjSHBvjkiV"
      },
      "execution_count": 37,
      "outputs": []
    },
    {
      "cell_type": "markdown",
      "source": [
        "### Definir algoritmo do modelo"
      ],
      "metadata": {
        "id": "sSh-FMRfjqFJ"
      }
    },
    {
      "cell_type": "code",
      "source": [
        "model = RandomForestClassifier(random_state=9)"
      ],
      "metadata": {
        "id": "cX9FAGG2jul-"
      },
      "execution_count": 38,
      "outputs": []
    },
    {
      "cell_type": "markdown",
      "source": [
        "### Treinar modelo"
      ],
      "metadata": {
        "id": "pSx5qhS6jxqQ"
      }
    },
    {
      "cell_type": "code",
      "source": [
        "model.fit(x_train,y_train)"
      ],
      "metadata": {
        "id": "MoKWYuHQj2IJ",
        "colab": {
          "base_uri": "https://localhost:8080/"
        },
        "outputId": "81d7ac08-a964-4752-cb4c-b1b29eaa6d75"
      },
      "execution_count": 39,
      "outputs": [
        {
          "output_type": "execute_result",
          "data": {
            "text/plain": [
              "RandomForestClassifier(random_state=9)"
            ]
          },
          "metadata": {},
          "execution_count": 39
        }
      ]
    },
    {
      "cell_type": "markdown",
      "source": [
        "### Fazer previsão"
      ],
      "metadata": {
        "id": "xjc93wCjj8IA"
      }
    },
    {
      "cell_type": "code",
      "source": [
        "y_pred = model.predict(x_test)"
      ],
      "metadata": {
        "id": "C0OLvo1hkA4e"
      },
      "execution_count": 40,
      "outputs": []
    },
    {
      "cell_type": "markdown",
      "source": [
        "### Taxa de acerto do modelo"
      ],
      "metadata": {
        "id": "zpcwqKf-tro7"
      }
    },
    {
      "cell_type": "code",
      "source": [
        "accuracy = accuracy_score(y_test,y_pred)\n",
        "accuracy"
      ],
      "metadata": {
        "colab": {
          "base_uri": "https://localhost:8080/"
        },
        "id": "sz4bmqR_tvli",
        "outputId": "f3782dd0-b8a3-4cb9-85f9-26eada27940d"
      },
      "execution_count": 41,
      "outputs": [
        {
          "output_type": "execute_result",
          "data": {
            "text/plain": [
              "0.6523929471032746"
            ]
          },
          "metadata": {},
          "execution_count": 41
        }
      ]
    }
  ]
}