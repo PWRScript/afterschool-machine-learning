{
  "nbformat": 4,
  "nbformat_minor": 0,
  "metadata": {
    "colab": {
      "provenance": [],
      "collapsed_sections": [],
      "include_colab_link": true
    },
    "kernelspec": {
      "name": "python3",
      "display_name": "Python 3"
    }
  },
  "cells": [
    {
      "cell_type": "markdown",
      "metadata": {
        "id": "view-in-github",
        "colab_type": "text"
      },
      "source": [
        "<a href=\"https://colab.research.google.com/github/PWRScript/afterschool-machine-learning/blob/main/exercicios/Aula%202%20-%20Exercicio%20%20Parcialmente%20Resolvido%20-%20Preveja%20quem%20vai%20ganhar%20um%20jogo%20de%20xadrez.ipynb\" target=\"_parent\"><img src=\"https://colab.research.google.com/assets/colab-badge.svg\" alt=\"Open In Colab\"/></a>"
      ]
    },
    {
      "cell_type": "markdown",
      "metadata": {
        "id": "m1AqiVXQxrTq"
      },
      "source": [
        "# Exercício parcialmente resolvido\n",
        "\n",
        "## Problema\n",
        "\n",
        "Neste exercício, pretendemos prever quem vai ganhar um jogo de xadrez. Para tal, vamos ter em consideração informações sobre o jogo, tais como o número de jogos, a classificação dos jogadores e o número de jogadas na fase de abertura.\n",
        "\n",
        "## Dados\n",
        "\n",
        "* Número de observações = 20058\n",
        "* Número de variáveis independentes = 5\n",
        " * id = código de identificação do jogo\n",
        " * turns = número de jogadas\n",
        " * white_rating = classificação do jogador das peças brancas\n",
        " * black_rating = classificação do jogador das peças pretas\n",
        " * opening_ply = número de jogadas na fase de abertura\n",
        "* Variável dependente = “winner”. Diz-nos se o vencedor foi o jogador das peças brancas, pretas ou se houve empate.\n",
        "\n",
        "Dados disponíveis em: https://raw.githubusercontent.com/pmarcelino/datasets/master/chess_01.csv\n",
        "\n",
        "## Instruções\n",
        "\n",
        "Resolve o exercício tendo em consideração as pistas deixadas, como comentário, ao longo do código. Para tal, basta substituir os comentários com `[ ]` pelas instruções corretas. Algumas partes do exercício já estão resolvidas e, como tal, não requerem qualquer alteração."
      ]
    },
    {
      "cell_type": "markdown",
      "metadata": {
        "id": "fMRTQpZOxvzC"
      },
      "source": [
        "# Resolução"
      ]
    },
    {
      "cell_type": "code",
      "metadata": {
        "id": "0hW80SN2fnUQ"
      },
      "source": [
        "# Importar bibliotecas \n",
        "import pandas as pd  \n",
        "import seaborn as sns\n",
        "\n",
        "from sklearn.model_selection import train_test_split \n",
        "from sklearn.ensemble import RandomForestClassifier  \n",
        "from sklearn.metrics import accuracy_score "
      ],
      "execution_count": 2,
      "outputs": []
    },
    {
      "cell_type": "code",
      "source": [],
      "metadata": {
        "id": "-tSGuLpwk8oP"
      },
      "execution_count": null,
      "outputs": []
    },
    {
      "cell_type": "markdown",
      "metadata": {
        "id": "KqiSyATifoaF"
      },
      "source": [
        "## 1. Preparação de dados"
      ]
    },
    {
      "cell_type": "code",
      "metadata": {
        "id": "dNotZhZ7frNo",
        "outputId": "48a02ecd-2393-476c-d9b2-2248669fa771",
        "colab": {
          "base_uri": "https://localhost:8080/",
          "height": 424
        }
      },
      "source": [
        "# Importar dados\n",
        "df = pd.read_csv(\"https://raw.githubusercontent.com/pmarcelino/datasets/master/chess_01.csv\")\n",
        "df"
      ],
      "execution_count": 18,
      "outputs": [
        {
          "output_type": "execute_result",
          "data": {
            "text/plain": [
              "             id  turns winner  white_rating  black_rating  opening_ply\n",
              "0      TZJHLljE     13  white          1500          1191            5\n",
              "1      l1NXvwaE     16  black          1322          1261            4\n",
              "2      mIICvQHh     61  white          1496          1500            3\n",
              "3      kWKvrqYL     61  white          1439          1454            3\n",
              "4      9tXo1AUZ     95  white          1523          1469            5\n",
              "...         ...    ...    ...           ...           ...          ...\n",
              "20053  EfqH7VVH     24  white          1691          1220            2\n",
              "20054  WSJDhbPl     82  black          1233          1196            2\n",
              "20055  yrAas0Kj     35  white          1219          1286            3\n",
              "20056  b0v4tRyF    109  white          1360          1227            4\n",
              "20057  N8G2JHGG     78  black          1235          1339            3\n",
              "\n",
              "[20058 rows x 6 columns]"
            ],
            "text/html": [
              "\n",
              "  <div id=\"df-e99c980b-5ac8-4208-8f95-72a98861afef\">\n",
              "    <div class=\"colab-df-container\">\n",
              "      <div>\n",
              "<style scoped>\n",
              "    .dataframe tbody tr th:only-of-type {\n",
              "        vertical-align: middle;\n",
              "    }\n",
              "\n",
              "    .dataframe tbody tr th {\n",
              "        vertical-align: top;\n",
              "    }\n",
              "\n",
              "    .dataframe thead th {\n",
              "        text-align: right;\n",
              "    }\n",
              "</style>\n",
              "<table border=\"1\" class=\"dataframe\">\n",
              "  <thead>\n",
              "    <tr style=\"text-align: right;\">\n",
              "      <th></th>\n",
              "      <th>id</th>\n",
              "      <th>turns</th>\n",
              "      <th>winner</th>\n",
              "      <th>white_rating</th>\n",
              "      <th>black_rating</th>\n",
              "      <th>opening_ply</th>\n",
              "    </tr>\n",
              "  </thead>\n",
              "  <tbody>\n",
              "    <tr>\n",
              "      <th>0</th>\n",
              "      <td>TZJHLljE</td>\n",
              "      <td>13</td>\n",
              "      <td>white</td>\n",
              "      <td>1500</td>\n",
              "      <td>1191</td>\n",
              "      <td>5</td>\n",
              "    </tr>\n",
              "    <tr>\n",
              "      <th>1</th>\n",
              "      <td>l1NXvwaE</td>\n",
              "      <td>16</td>\n",
              "      <td>black</td>\n",
              "      <td>1322</td>\n",
              "      <td>1261</td>\n",
              "      <td>4</td>\n",
              "    </tr>\n",
              "    <tr>\n",
              "      <th>2</th>\n",
              "      <td>mIICvQHh</td>\n",
              "      <td>61</td>\n",
              "      <td>white</td>\n",
              "      <td>1496</td>\n",
              "      <td>1500</td>\n",
              "      <td>3</td>\n",
              "    </tr>\n",
              "    <tr>\n",
              "      <th>3</th>\n",
              "      <td>kWKvrqYL</td>\n",
              "      <td>61</td>\n",
              "      <td>white</td>\n",
              "      <td>1439</td>\n",
              "      <td>1454</td>\n",
              "      <td>3</td>\n",
              "    </tr>\n",
              "    <tr>\n",
              "      <th>4</th>\n",
              "      <td>9tXo1AUZ</td>\n",
              "      <td>95</td>\n",
              "      <td>white</td>\n",
              "      <td>1523</td>\n",
              "      <td>1469</td>\n",
              "      <td>5</td>\n",
              "    </tr>\n",
              "    <tr>\n",
              "      <th>...</th>\n",
              "      <td>...</td>\n",
              "      <td>...</td>\n",
              "      <td>...</td>\n",
              "      <td>...</td>\n",
              "      <td>...</td>\n",
              "      <td>...</td>\n",
              "    </tr>\n",
              "    <tr>\n",
              "      <th>20053</th>\n",
              "      <td>EfqH7VVH</td>\n",
              "      <td>24</td>\n",
              "      <td>white</td>\n",
              "      <td>1691</td>\n",
              "      <td>1220</td>\n",
              "      <td>2</td>\n",
              "    </tr>\n",
              "    <tr>\n",
              "      <th>20054</th>\n",
              "      <td>WSJDhbPl</td>\n",
              "      <td>82</td>\n",
              "      <td>black</td>\n",
              "      <td>1233</td>\n",
              "      <td>1196</td>\n",
              "      <td>2</td>\n",
              "    </tr>\n",
              "    <tr>\n",
              "      <th>20055</th>\n",
              "      <td>yrAas0Kj</td>\n",
              "      <td>35</td>\n",
              "      <td>white</td>\n",
              "      <td>1219</td>\n",
              "      <td>1286</td>\n",
              "      <td>3</td>\n",
              "    </tr>\n",
              "    <tr>\n",
              "      <th>20056</th>\n",
              "      <td>b0v4tRyF</td>\n",
              "      <td>109</td>\n",
              "      <td>white</td>\n",
              "      <td>1360</td>\n",
              "      <td>1227</td>\n",
              "      <td>4</td>\n",
              "    </tr>\n",
              "    <tr>\n",
              "      <th>20057</th>\n",
              "      <td>N8G2JHGG</td>\n",
              "      <td>78</td>\n",
              "      <td>black</td>\n",
              "      <td>1235</td>\n",
              "      <td>1339</td>\n",
              "      <td>3</td>\n",
              "    </tr>\n",
              "  </tbody>\n",
              "</table>\n",
              "<p>20058 rows × 6 columns</p>\n",
              "</div>\n",
              "      <button class=\"colab-df-convert\" onclick=\"convertToInteractive('df-e99c980b-5ac8-4208-8f95-72a98861afef')\"\n",
              "              title=\"Convert this dataframe to an interactive table.\"\n",
              "              style=\"display:none;\">\n",
              "        \n",
              "  <svg xmlns=\"http://www.w3.org/2000/svg\" height=\"24px\"viewBox=\"0 0 24 24\"\n",
              "       width=\"24px\">\n",
              "    <path d=\"M0 0h24v24H0V0z\" fill=\"none\"/>\n",
              "    <path d=\"M18.56 5.44l.94 2.06.94-2.06 2.06-.94-2.06-.94-.94-2.06-.94 2.06-2.06.94zm-11 1L8.5 8.5l.94-2.06 2.06-.94-2.06-.94L8.5 2.5l-.94 2.06-2.06.94zm10 10l.94 2.06.94-2.06 2.06-.94-2.06-.94-.94-2.06-.94 2.06-2.06.94z\"/><path d=\"M17.41 7.96l-1.37-1.37c-.4-.4-.92-.59-1.43-.59-.52 0-1.04.2-1.43.59L10.3 9.45l-7.72 7.72c-.78.78-.78 2.05 0 2.83L4 21.41c.39.39.9.59 1.41.59.51 0 1.02-.2 1.41-.59l7.78-7.78 2.81-2.81c.8-.78.8-2.07 0-2.86zM5.41 20L4 18.59l7.72-7.72 1.47 1.35L5.41 20z\"/>\n",
              "  </svg>\n",
              "      </button>\n",
              "      \n",
              "  <style>\n",
              "    .colab-df-container {\n",
              "      display:flex;\n",
              "      flex-wrap:wrap;\n",
              "      gap: 12px;\n",
              "    }\n",
              "\n",
              "    .colab-df-convert {\n",
              "      background-color: #E8F0FE;\n",
              "      border: none;\n",
              "      border-radius: 50%;\n",
              "      cursor: pointer;\n",
              "      display: none;\n",
              "      fill: #1967D2;\n",
              "      height: 32px;\n",
              "      padding: 0 0 0 0;\n",
              "      width: 32px;\n",
              "    }\n",
              "\n",
              "    .colab-df-convert:hover {\n",
              "      background-color: #E2EBFA;\n",
              "      box-shadow: 0px 1px 2px rgba(60, 64, 67, 0.3), 0px 1px 3px 1px rgba(60, 64, 67, 0.15);\n",
              "      fill: #174EA6;\n",
              "    }\n",
              "\n",
              "    [theme=dark] .colab-df-convert {\n",
              "      background-color: #3B4455;\n",
              "      fill: #D2E3FC;\n",
              "    }\n",
              "\n",
              "    [theme=dark] .colab-df-convert:hover {\n",
              "      background-color: #434B5C;\n",
              "      box-shadow: 0px 1px 3px 1px rgba(0, 0, 0, 0.15);\n",
              "      filter: drop-shadow(0px 1px 2px rgba(0, 0, 0, 0.3));\n",
              "      fill: #FFFFFF;\n",
              "    }\n",
              "  </style>\n",
              "\n",
              "      <script>\n",
              "        const buttonEl =\n",
              "          document.querySelector('#df-e99c980b-5ac8-4208-8f95-72a98861afef button.colab-df-convert');\n",
              "        buttonEl.style.display =\n",
              "          google.colab.kernel.accessAllowed ? 'block' : 'none';\n",
              "\n",
              "        async function convertToInteractive(key) {\n",
              "          const element = document.querySelector('#df-e99c980b-5ac8-4208-8f95-72a98861afef');\n",
              "          const dataTable =\n",
              "            await google.colab.kernel.invokeFunction('convertToInteractive',\n",
              "                                                     [key], {});\n",
              "          if (!dataTable) return;\n",
              "\n",
              "          const docLinkHtml = 'Like what you see? Visit the ' +\n",
              "            '<a target=\"_blank\" href=https://colab.research.google.com/notebooks/data_table.ipynb>data table notebook</a>'\n",
              "            + ' to learn more about interactive tables.';\n",
              "          element.innerHTML = '';\n",
              "          dataTable['output_type'] = 'display_data';\n",
              "          await google.colab.output.renderOutput(dataTable, element);\n",
              "          const docLink = document.createElement('div');\n",
              "          docLink.innerHTML = docLinkHtml;\n",
              "          element.appendChild(docLink);\n",
              "        }\n",
              "      </script>\n",
              "    </div>\n",
              "  </div>\n",
              "  "
            ]
          },
          "metadata": {},
          "execution_count": 18
        }
      ]
    },
    {
      "cell_type": "code",
      "metadata": {
        "id": "Syg60giCftAJ",
        "outputId": "968ce14c-43f8-4a7b-cdf9-1e651ed154bb",
        "colab": {
          "base_uri": "https://localhost:8080/"
        }
      },
      "source": [
        "# Verificar se há dados em falta\n",
        "\n",
        "df.isnull().sum()"
      ],
      "execution_count": 4,
      "outputs": [
        {
          "output_type": "execute_result",
          "data": {
            "text/plain": [
              "id              0\n",
              "turns           0\n",
              "winner          0\n",
              "white_rating    0\n",
              "black_rating    0\n",
              "opening_ply     0\n",
              "dtype: int64"
            ]
          },
          "metadata": {},
          "execution_count": 4
        }
      ]
    },
    {
      "cell_type": "code",
      "metadata": {
        "id": "rJvXwhhwfta4"
      },
      "source": [
        "# Eliminar observações com dados em falta (caso necessário)\n",
        "\n",
        "# Não é neceessário pois contém todos os dados"
      ],
      "execution_count": 5,
      "outputs": []
    },
    {
      "cell_type": "code",
      "metadata": {
        "id": "tuZvXhrXftt1"
      },
      "source": [
        "# Verificar se há dados em falta (caso necessário)\n",
        "\n",
        "# Não é neceessário pois contém todos os dados"
      ],
      "execution_count": null,
      "outputs": []
    },
    {
      "cell_type": "markdown",
      "metadata": {
        "id": "dD6uTl1cfwsN"
      },
      "source": [
        "## 2. Explorar dados"
      ]
    },
    {
      "cell_type": "code",
      "metadata": {
        "id": "fufyipXlfzYL",
        "outputId": "b0efdd51-ecb5-4a04-a7c5-93ceb7a52f6c",
        "colab": {
          "base_uri": "https://localhost:8080/",
          "height": 300
        }
      },
      "source": [
        "# Verificar se há erros e anomalias\n",
        "\n",
        "df.describe()"
      ],
      "execution_count": 7,
      "outputs": [
        {
          "output_type": "execute_result",
          "data": {
            "text/plain": [
              "              turns  white_rating  black_rating   opening_ply\n",
              "count  20058.000000  20058.000000  20058.000000  20058.000000\n",
              "mean      60.465999   1596.631868   1588.831987      4.816981\n",
              "std       33.570585    291.253376    291.036126      2.797152\n",
              "min        1.000000    784.000000    789.000000      1.000000\n",
              "25%       37.000000   1398.000000   1391.000000      3.000000\n",
              "50%       55.000000   1567.000000   1562.000000      4.000000\n",
              "75%       79.000000   1793.000000   1784.000000      6.000000\n",
              "max      349.000000   2700.000000   2723.000000     28.000000"
            ],
            "text/html": [
              "\n",
              "  <div id=\"df-14cf5f18-93d3-4204-80c6-fe807eded6bd\">\n",
              "    <div class=\"colab-df-container\">\n",
              "      <div>\n",
              "<style scoped>\n",
              "    .dataframe tbody tr th:only-of-type {\n",
              "        vertical-align: middle;\n",
              "    }\n",
              "\n",
              "    .dataframe tbody tr th {\n",
              "        vertical-align: top;\n",
              "    }\n",
              "\n",
              "    .dataframe thead th {\n",
              "        text-align: right;\n",
              "    }\n",
              "</style>\n",
              "<table border=\"1\" class=\"dataframe\">\n",
              "  <thead>\n",
              "    <tr style=\"text-align: right;\">\n",
              "      <th></th>\n",
              "      <th>turns</th>\n",
              "      <th>white_rating</th>\n",
              "      <th>black_rating</th>\n",
              "      <th>opening_ply</th>\n",
              "    </tr>\n",
              "  </thead>\n",
              "  <tbody>\n",
              "    <tr>\n",
              "      <th>count</th>\n",
              "      <td>20058.000000</td>\n",
              "      <td>20058.000000</td>\n",
              "      <td>20058.000000</td>\n",
              "      <td>20058.000000</td>\n",
              "    </tr>\n",
              "    <tr>\n",
              "      <th>mean</th>\n",
              "      <td>60.465999</td>\n",
              "      <td>1596.631868</td>\n",
              "      <td>1588.831987</td>\n",
              "      <td>4.816981</td>\n",
              "    </tr>\n",
              "    <tr>\n",
              "      <th>std</th>\n",
              "      <td>33.570585</td>\n",
              "      <td>291.253376</td>\n",
              "      <td>291.036126</td>\n",
              "      <td>2.797152</td>\n",
              "    </tr>\n",
              "    <tr>\n",
              "      <th>min</th>\n",
              "      <td>1.000000</td>\n",
              "      <td>784.000000</td>\n",
              "      <td>789.000000</td>\n",
              "      <td>1.000000</td>\n",
              "    </tr>\n",
              "    <tr>\n",
              "      <th>25%</th>\n",
              "      <td>37.000000</td>\n",
              "      <td>1398.000000</td>\n",
              "      <td>1391.000000</td>\n",
              "      <td>3.000000</td>\n",
              "    </tr>\n",
              "    <tr>\n",
              "      <th>50%</th>\n",
              "      <td>55.000000</td>\n",
              "      <td>1567.000000</td>\n",
              "      <td>1562.000000</td>\n",
              "      <td>4.000000</td>\n",
              "    </tr>\n",
              "    <tr>\n",
              "      <th>75%</th>\n",
              "      <td>79.000000</td>\n",
              "      <td>1793.000000</td>\n",
              "      <td>1784.000000</td>\n",
              "      <td>6.000000</td>\n",
              "    </tr>\n",
              "    <tr>\n",
              "      <th>max</th>\n",
              "      <td>349.000000</td>\n",
              "      <td>2700.000000</td>\n",
              "      <td>2723.000000</td>\n",
              "      <td>28.000000</td>\n",
              "    </tr>\n",
              "  </tbody>\n",
              "</table>\n",
              "</div>\n",
              "      <button class=\"colab-df-convert\" onclick=\"convertToInteractive('df-14cf5f18-93d3-4204-80c6-fe807eded6bd')\"\n",
              "              title=\"Convert this dataframe to an interactive table.\"\n",
              "              style=\"display:none;\">\n",
              "        \n",
              "  <svg xmlns=\"http://www.w3.org/2000/svg\" height=\"24px\"viewBox=\"0 0 24 24\"\n",
              "       width=\"24px\">\n",
              "    <path d=\"M0 0h24v24H0V0z\" fill=\"none\"/>\n",
              "    <path d=\"M18.56 5.44l.94 2.06.94-2.06 2.06-.94-2.06-.94-.94-2.06-.94 2.06-2.06.94zm-11 1L8.5 8.5l.94-2.06 2.06-.94-2.06-.94L8.5 2.5l-.94 2.06-2.06.94zm10 10l.94 2.06.94-2.06 2.06-.94-2.06-.94-.94-2.06-.94 2.06-2.06.94z\"/><path d=\"M17.41 7.96l-1.37-1.37c-.4-.4-.92-.59-1.43-.59-.52 0-1.04.2-1.43.59L10.3 9.45l-7.72 7.72c-.78.78-.78 2.05 0 2.83L4 21.41c.39.39.9.59 1.41.59.51 0 1.02-.2 1.41-.59l7.78-7.78 2.81-2.81c.8-.78.8-2.07 0-2.86zM5.41 20L4 18.59l7.72-7.72 1.47 1.35L5.41 20z\"/>\n",
              "  </svg>\n",
              "      </button>\n",
              "      \n",
              "  <style>\n",
              "    .colab-df-container {\n",
              "      display:flex;\n",
              "      flex-wrap:wrap;\n",
              "      gap: 12px;\n",
              "    }\n",
              "\n",
              "    .colab-df-convert {\n",
              "      background-color: #E8F0FE;\n",
              "      border: none;\n",
              "      border-radius: 50%;\n",
              "      cursor: pointer;\n",
              "      display: none;\n",
              "      fill: #1967D2;\n",
              "      height: 32px;\n",
              "      padding: 0 0 0 0;\n",
              "      width: 32px;\n",
              "    }\n",
              "\n",
              "    .colab-df-convert:hover {\n",
              "      background-color: #E2EBFA;\n",
              "      box-shadow: 0px 1px 2px rgba(60, 64, 67, 0.3), 0px 1px 3px 1px rgba(60, 64, 67, 0.15);\n",
              "      fill: #174EA6;\n",
              "    }\n",
              "\n",
              "    [theme=dark] .colab-df-convert {\n",
              "      background-color: #3B4455;\n",
              "      fill: #D2E3FC;\n",
              "    }\n",
              "\n",
              "    [theme=dark] .colab-df-convert:hover {\n",
              "      background-color: #434B5C;\n",
              "      box-shadow: 0px 1px 3px 1px rgba(0, 0, 0, 0.15);\n",
              "      filter: drop-shadow(0px 1px 2px rgba(0, 0, 0, 0.3));\n",
              "      fill: #FFFFFF;\n",
              "    }\n",
              "  </style>\n",
              "\n",
              "      <script>\n",
              "        const buttonEl =\n",
              "          document.querySelector('#df-14cf5f18-93d3-4204-80c6-fe807eded6bd button.colab-df-convert');\n",
              "        buttonEl.style.display =\n",
              "          google.colab.kernel.accessAllowed ? 'block' : 'none';\n",
              "\n",
              "        async function convertToInteractive(key) {\n",
              "          const element = document.querySelector('#df-14cf5f18-93d3-4204-80c6-fe807eded6bd');\n",
              "          const dataTable =\n",
              "            await google.colab.kernel.invokeFunction('convertToInteractive',\n",
              "                                                     [key], {});\n",
              "          if (!dataTable) return;\n",
              "\n",
              "          const docLinkHtml = 'Like what you see? Visit the ' +\n",
              "            '<a target=\"_blank\" href=https://colab.research.google.com/notebooks/data_table.ipynb>data table notebook</a>'\n",
              "            + ' to learn more about interactive tables.';\n",
              "          element.innerHTML = '';\n",
              "          dataTable['output_type'] = 'display_data';\n",
              "          await google.colab.output.renderOutput(dataTable, element);\n",
              "          const docLink = document.createElement('div');\n",
              "          docLink.innerHTML = docLinkHtml;\n",
              "          element.appendChild(docLink);\n",
              "        }\n",
              "      </script>\n",
              "    </div>\n",
              "  </div>\n",
              "  "
            ]
          },
          "metadata": {},
          "execution_count": 7
        }
      ]
    },
    {
      "cell_type": "code",
      "metadata": {
        "id": "IV7JxCqZg27N"
      },
      "source": [
        "# Remover erros e anomalias (caso necessário)\n",
        "\n",
        "# Não é neceessário pois não existem erros nem anormalias"
      ],
      "execution_count": null,
      "outputs": []
    },
    {
      "cell_type": "code",
      "metadata": {
        "id": "icwz8_R_h1K8",
        "outputId": "31631ccc-33b4-4d30-fd81-d8357dc20b77",
        "colab": {
          "base_uri": "https://localhost:8080/",
          "height": 424
        }
      },
      "source": [
        "# Criar variável que relacione 'white_rating' com 'black_rating'\n",
        "df['ratio'] = df['white_rating'] / df['black_rating']\n",
        "df"
      ],
      "execution_count": 8,
      "outputs": [
        {
          "output_type": "execute_result",
          "data": {
            "text/plain": [
              "             id  turns winner  white_rating  black_rating  opening_ply  \\\n",
              "0      TZJHLljE     13  white          1500          1191            5   \n",
              "1      l1NXvwaE     16  black          1322          1261            4   \n",
              "2      mIICvQHh     61  white          1496          1500            3   \n",
              "3      kWKvrqYL     61  white          1439          1454            3   \n",
              "4      9tXo1AUZ     95  white          1523          1469            5   \n",
              "...         ...    ...    ...           ...           ...          ...   \n",
              "20053  EfqH7VVH     24  white          1691          1220            2   \n",
              "20054  WSJDhbPl     82  black          1233          1196            2   \n",
              "20055  yrAas0Kj     35  white          1219          1286            3   \n",
              "20056  b0v4tRyF    109  white          1360          1227            4   \n",
              "20057  N8G2JHGG     78  black          1235          1339            3   \n",
              "\n",
              "          ratio  \n",
              "0      1.259446  \n",
              "1      1.048374  \n",
              "2      0.997333  \n",
              "3      0.989684  \n",
              "4      1.036760  \n",
              "...         ...  \n",
              "20053  1.386066  \n",
              "20054  1.030936  \n",
              "20055  0.947900  \n",
              "20056  1.108394  \n",
              "20057  0.922330  \n",
              "\n",
              "[20058 rows x 7 columns]"
            ],
            "text/html": [
              "\n",
              "  <div id=\"df-25f05345-6f0d-4768-b0ff-187d4a4f5e75\">\n",
              "    <div class=\"colab-df-container\">\n",
              "      <div>\n",
              "<style scoped>\n",
              "    .dataframe tbody tr th:only-of-type {\n",
              "        vertical-align: middle;\n",
              "    }\n",
              "\n",
              "    .dataframe tbody tr th {\n",
              "        vertical-align: top;\n",
              "    }\n",
              "\n",
              "    .dataframe thead th {\n",
              "        text-align: right;\n",
              "    }\n",
              "</style>\n",
              "<table border=\"1\" class=\"dataframe\">\n",
              "  <thead>\n",
              "    <tr style=\"text-align: right;\">\n",
              "      <th></th>\n",
              "      <th>id</th>\n",
              "      <th>turns</th>\n",
              "      <th>winner</th>\n",
              "      <th>white_rating</th>\n",
              "      <th>black_rating</th>\n",
              "      <th>opening_ply</th>\n",
              "      <th>ratio</th>\n",
              "    </tr>\n",
              "  </thead>\n",
              "  <tbody>\n",
              "    <tr>\n",
              "      <th>0</th>\n",
              "      <td>TZJHLljE</td>\n",
              "      <td>13</td>\n",
              "      <td>white</td>\n",
              "      <td>1500</td>\n",
              "      <td>1191</td>\n",
              "      <td>5</td>\n",
              "      <td>1.259446</td>\n",
              "    </tr>\n",
              "    <tr>\n",
              "      <th>1</th>\n",
              "      <td>l1NXvwaE</td>\n",
              "      <td>16</td>\n",
              "      <td>black</td>\n",
              "      <td>1322</td>\n",
              "      <td>1261</td>\n",
              "      <td>4</td>\n",
              "      <td>1.048374</td>\n",
              "    </tr>\n",
              "    <tr>\n",
              "      <th>2</th>\n",
              "      <td>mIICvQHh</td>\n",
              "      <td>61</td>\n",
              "      <td>white</td>\n",
              "      <td>1496</td>\n",
              "      <td>1500</td>\n",
              "      <td>3</td>\n",
              "      <td>0.997333</td>\n",
              "    </tr>\n",
              "    <tr>\n",
              "      <th>3</th>\n",
              "      <td>kWKvrqYL</td>\n",
              "      <td>61</td>\n",
              "      <td>white</td>\n",
              "      <td>1439</td>\n",
              "      <td>1454</td>\n",
              "      <td>3</td>\n",
              "      <td>0.989684</td>\n",
              "    </tr>\n",
              "    <tr>\n",
              "      <th>4</th>\n",
              "      <td>9tXo1AUZ</td>\n",
              "      <td>95</td>\n",
              "      <td>white</td>\n",
              "      <td>1523</td>\n",
              "      <td>1469</td>\n",
              "      <td>5</td>\n",
              "      <td>1.036760</td>\n",
              "    </tr>\n",
              "    <tr>\n",
              "      <th>...</th>\n",
              "      <td>...</td>\n",
              "      <td>...</td>\n",
              "      <td>...</td>\n",
              "      <td>...</td>\n",
              "      <td>...</td>\n",
              "      <td>...</td>\n",
              "      <td>...</td>\n",
              "    </tr>\n",
              "    <tr>\n",
              "      <th>20053</th>\n",
              "      <td>EfqH7VVH</td>\n",
              "      <td>24</td>\n",
              "      <td>white</td>\n",
              "      <td>1691</td>\n",
              "      <td>1220</td>\n",
              "      <td>2</td>\n",
              "      <td>1.386066</td>\n",
              "    </tr>\n",
              "    <tr>\n",
              "      <th>20054</th>\n",
              "      <td>WSJDhbPl</td>\n",
              "      <td>82</td>\n",
              "      <td>black</td>\n",
              "      <td>1233</td>\n",
              "      <td>1196</td>\n",
              "      <td>2</td>\n",
              "      <td>1.030936</td>\n",
              "    </tr>\n",
              "    <tr>\n",
              "      <th>20055</th>\n",
              "      <td>yrAas0Kj</td>\n",
              "      <td>35</td>\n",
              "      <td>white</td>\n",
              "      <td>1219</td>\n",
              "      <td>1286</td>\n",
              "      <td>3</td>\n",
              "      <td>0.947900</td>\n",
              "    </tr>\n",
              "    <tr>\n",
              "      <th>20056</th>\n",
              "      <td>b0v4tRyF</td>\n",
              "      <td>109</td>\n",
              "      <td>white</td>\n",
              "      <td>1360</td>\n",
              "      <td>1227</td>\n",
              "      <td>4</td>\n",
              "      <td>1.108394</td>\n",
              "    </tr>\n",
              "    <tr>\n",
              "      <th>20057</th>\n",
              "      <td>N8G2JHGG</td>\n",
              "      <td>78</td>\n",
              "      <td>black</td>\n",
              "      <td>1235</td>\n",
              "      <td>1339</td>\n",
              "      <td>3</td>\n",
              "      <td>0.922330</td>\n",
              "    </tr>\n",
              "  </tbody>\n",
              "</table>\n",
              "<p>20058 rows × 7 columns</p>\n",
              "</div>\n",
              "      <button class=\"colab-df-convert\" onclick=\"convertToInteractive('df-25f05345-6f0d-4768-b0ff-187d4a4f5e75')\"\n",
              "              title=\"Convert this dataframe to an interactive table.\"\n",
              "              style=\"display:none;\">\n",
              "        \n",
              "  <svg xmlns=\"http://www.w3.org/2000/svg\" height=\"24px\"viewBox=\"0 0 24 24\"\n",
              "       width=\"24px\">\n",
              "    <path d=\"M0 0h24v24H0V0z\" fill=\"none\"/>\n",
              "    <path d=\"M18.56 5.44l.94 2.06.94-2.06 2.06-.94-2.06-.94-.94-2.06-.94 2.06-2.06.94zm-11 1L8.5 8.5l.94-2.06 2.06-.94-2.06-.94L8.5 2.5l-.94 2.06-2.06.94zm10 10l.94 2.06.94-2.06 2.06-.94-2.06-.94-.94-2.06-.94 2.06-2.06.94z\"/><path d=\"M17.41 7.96l-1.37-1.37c-.4-.4-.92-.59-1.43-.59-.52 0-1.04.2-1.43.59L10.3 9.45l-7.72 7.72c-.78.78-.78 2.05 0 2.83L4 21.41c.39.39.9.59 1.41.59.51 0 1.02-.2 1.41-.59l7.78-7.78 2.81-2.81c.8-.78.8-2.07 0-2.86zM5.41 20L4 18.59l7.72-7.72 1.47 1.35L5.41 20z\"/>\n",
              "  </svg>\n",
              "      </button>\n",
              "      \n",
              "  <style>\n",
              "    .colab-df-container {\n",
              "      display:flex;\n",
              "      flex-wrap:wrap;\n",
              "      gap: 12px;\n",
              "    }\n",
              "\n",
              "    .colab-df-convert {\n",
              "      background-color: #E8F0FE;\n",
              "      border: none;\n",
              "      border-radius: 50%;\n",
              "      cursor: pointer;\n",
              "      display: none;\n",
              "      fill: #1967D2;\n",
              "      height: 32px;\n",
              "      padding: 0 0 0 0;\n",
              "      width: 32px;\n",
              "    }\n",
              "\n",
              "    .colab-df-convert:hover {\n",
              "      background-color: #E2EBFA;\n",
              "      box-shadow: 0px 1px 2px rgba(60, 64, 67, 0.3), 0px 1px 3px 1px rgba(60, 64, 67, 0.15);\n",
              "      fill: #174EA6;\n",
              "    }\n",
              "\n",
              "    [theme=dark] .colab-df-convert {\n",
              "      background-color: #3B4455;\n",
              "      fill: #D2E3FC;\n",
              "    }\n",
              "\n",
              "    [theme=dark] .colab-df-convert:hover {\n",
              "      background-color: #434B5C;\n",
              "      box-shadow: 0px 1px 3px 1px rgba(0, 0, 0, 0.15);\n",
              "      filter: drop-shadow(0px 1px 2px rgba(0, 0, 0, 0.3));\n",
              "      fill: #FFFFFF;\n",
              "    }\n",
              "  </style>\n",
              "\n",
              "      <script>\n",
              "        const buttonEl =\n",
              "          document.querySelector('#df-25f05345-6f0d-4768-b0ff-187d4a4f5e75 button.colab-df-convert');\n",
              "        buttonEl.style.display =\n",
              "          google.colab.kernel.accessAllowed ? 'block' : 'none';\n",
              "\n",
              "        async function convertToInteractive(key) {\n",
              "          const element = document.querySelector('#df-25f05345-6f0d-4768-b0ff-187d4a4f5e75');\n",
              "          const dataTable =\n",
              "            await google.colab.kernel.invokeFunction('convertToInteractive',\n",
              "                                                     [key], {});\n",
              "          if (!dataTable) return;\n",
              "\n",
              "          const docLinkHtml = 'Like what you see? Visit the ' +\n",
              "            '<a target=\"_blank\" href=https://colab.research.google.com/notebooks/data_table.ipynb>data table notebook</a>'\n",
              "            + ' to learn more about interactive tables.';\n",
              "          element.innerHTML = '';\n",
              "          dataTable['output_type'] = 'display_data';\n",
              "          await google.colab.output.renderOutput(dataTable, element);\n",
              "          const docLink = document.createElement('div');\n",
              "          docLink.innerHTML = docLinkHtml;\n",
              "          element.appendChild(docLink);\n",
              "        }\n",
              "      </script>\n",
              "    </div>\n",
              "  </div>\n",
              "  "
            ]
          },
          "metadata": {},
          "execution_count": 8
        }
      ]
    },
    {
      "cell_type": "code",
      "metadata": {
        "id": "gv8jtIDoieEk",
        "outputId": "5fc3b3b7-2fbc-4992-8b2a-177edca3098f",
        "colab": {
          "base_uri": "https://localhost:8080/",
          "height": 297
        }
      },
      "source": [
        "# Visualizar a relação entre 'winner' e 'ratio, usando um boxplot\n",
        "\n",
        "sns.boxplot(x=\"winner\", y=\"ratio\", data=df)"
      ],
      "execution_count": 10,
      "outputs": [
        {
          "output_type": "execute_result",
          "data": {
            "text/plain": [
              "<matplotlib.axes._subplots.AxesSubplot at 0x7f67c5301d90>"
            ]
          },
          "metadata": {},
          "execution_count": 10
        },
        {
          "output_type": "display_data",
          "data": {
            "text/plain": [
              "<Figure size 432x288 with 1 Axes>"
            ],
            "image/png": "[encoded data removed]"
          },
          "metadata": {
            "needs_background": "light"
          }
        }
      ]
    },
    {
      "cell_type": "markdown",
      "metadata": {
        "id": "0TkKtREAitar"
      },
      "source": [
        "* Sabendo que:\n",
        " * os valores de 'ratio' acima de 1 indicam que a classificação do jogador das peças brancas é maior que a do jogador das peças pretas,\n",
        " * que valores de 'ratio' abaixo de 1 indicam o contrário \n",
        " * e que valores 'ratio' igual a 1 indicam que os jogadores têm a mesma classificação, \n",
        " \n",
        " o gráfico apresentado faz sentido?\n",
        "\n",
        " Na minha opinião, estes gráficos fazem sentido pois os valores médios estão centralizados no ratio 1, em que para este fator acontecer requer que os jogador possuam \"o mesmo nivel equilibrado de inteligência\" executar estas jogadas. Devido ao facto de existirem jogadores com mais experiencia que outros podemos esperar valores mais baixos e mais altos de ratio"
      ]
    },
    {
      "cell_type": "markdown",
      "metadata": {
        "id": "WdnkdPD5f6fW"
      },
      "source": [
        "## 3. Treinar modelo"
      ]
    },
    {
      "cell_type": "code",
      "metadata": {
        "id": "Ds1zTAlTfBPf"
      },
      "source": [
        "# Definir variáveis independentes e dependente\n",
        "X = df[['turns', 'white_rating', 'black_rating', 'opening_ply']]\n",
        "y = df['winner']"
      ],
      "execution_count": 11,
      "outputs": []
    },
    {
      "cell_type": "code",
      "metadata": {
        "id": "vQ1_YhzQgE06"
      },
      "source": [
        "# Dividir dados em conjunto de dados de treino e de teste\n",
        "\n",
        "X_train, x_test, y_train, y_test = train_test_split(X,y,random_state=5)"
      ],
      "execution_count": 13,
      "outputs": []
    },
    {
      "cell_type": "code",
      "metadata": {
        "id": "TuJBAg6_gGOX"
      },
      "source": [
        "# Definir algoritmo do modelo\n",
        "\n",
        "model = RandomForestClassifier(random_state=20)"
      ],
      "execution_count": 14,
      "outputs": []
    },
    {
      "cell_type": "code",
      "metadata": {
        "id": "lRES-ryPgH9h",
        "outputId": "5db24824-9930-43ab-99fe-75ff9bfe34c1",
        "colab": {
          "base_uri": "https://localhost:8080/"
        }
      },
      "source": [
        "# Treinar o modelo\n",
        "model.fit(X_train, y_train)"
      ],
      "execution_count": 15,
      "outputs": [
        {
          "output_type": "execute_result",
          "data": {
            "text/plain": [
              "RandomForestClassifier(random_state=20)"
            ]
          },
          "metadata": {},
          "execution_count": 15
        }
      ]
    },
    {
      "cell_type": "markdown",
      "metadata": {
        "id": "9zZNDWWIgJo1"
      },
      "source": [
        "## 4. Avaliar modelo"
      ]
    },
    {
      "cell_type": "code",
      "metadata": {
        "id": "rBFIkjX6gK_l"
      },
      "source": [
        "# Fazer previsões\n",
        "\n",
        "y_pred = model.predict(x_test)"
      ],
      "execution_count": 16,
      "outputs": []
    },
    {
      "cell_type": "code",
      "metadata": {
        "id": "kNjwNUU6gNBc",
        "outputId": "adf29662-e374-4121-9967-2eef321c7afe",
        "colab": {
          "base_uri": "https://localhost:8080/"
        }
      },
      "source": [
        "# Avaliar modelo usando a taxa de acerto como medida\n",
        "\n",
        "accuracy_score(y_test, y_pred)"
      ],
      "execution_count": 17,
      "outputs": [
        {
          "output_type": "execute_result",
          "data": {
            "text/plain": [
              "0.6673978065802593"
            ]
          },
          "metadata": {},
          "execution_count": 17
        }
      ]
    }
  ]
}